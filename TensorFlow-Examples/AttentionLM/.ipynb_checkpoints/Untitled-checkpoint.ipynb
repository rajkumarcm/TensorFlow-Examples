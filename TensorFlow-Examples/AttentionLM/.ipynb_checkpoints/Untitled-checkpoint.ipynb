{
 "cells": [
  {
   "cell_type": "code",
   "execution_count": 1,
   "metadata": {},
   "outputs": [],
   "source": [
    "import os\n",
    "os.environ['CUDA_VISIBLE_DEVICES']='1'\n",
    "os.environ['TF_FORCE_GPU_ALLOW_GROWTH']='true'\n",
    "import numpy as np\n",
    "from matplotlib import pyplot as plt\n",
    "import tensorflow as tf\n",
    "from tensorflow.keras import Sequential, Model\n",
    "from tensorflow.keras.layers import *\n",
    "from tensorflow.keras.preprocessing.text import Tokenizer\n",
    "from tensorflow.keras.preprocessing.sequence import pad_sequences\n",
    "import tensorflow_datasets as tfds"
   ]
  },
  {
   "cell_type": "code",
   "execution_count": 2,
   "metadata": {},
   "outputs": [],
   "source": [
    "%config Completer.use_jedi = False"
   ]
  },
  {
   "cell_type": "code",
   "execution_count": 3,
   "metadata": {},
   "outputs": [],
   "source": [
    "imdb, info = tfds.load(\"imdb_reviews\", with_info=True, as_supervised=True)"
   ]
  },
  {
   "cell_type": "code",
   "execution_count": 4,
   "metadata": {},
   "outputs": [],
   "source": [
    "train_data, test_data = imdb['train'], imdb['test']\n",
    "\n",
    "training_sentences = []\n",
    "training_labels = []\n",
    "\n",
    "testing_sentences = []\n",
    "testing_labels = []\n",
    "\n",
    "for s, _ in train_data:\n",
    "    training_sentences.append(s.numpy().decode('utf8'))\n",
    "for s, _ in test_data:\n",
    "    testing_sentences.append(s.numpy().decode('utf8'))\n",
    "\n",
    "N_TR = len(training_sentences)\n",
    "N_TS = len(testing_sentences)"
   ]
  },
  {
   "cell_type": "code",
   "execution_count": 5,
   "metadata": {},
   "outputs": [
    {
     "name": "stdout",
     "output_type": "stream",
     "text": [
      "Length of training set: 25000\n",
      "Length of testing set: 25000\n"
     ]
    }
   ],
   "source": [
    "print(f'Length of training set: {N_TR}')\n",
    "print(f'Length of testing set: {N_TS}')"
   ]
  },
  {
   "cell_type": "code",
   "execution_count": 6,
   "metadata": {},
   "outputs": [],
   "source": [
    "# Temporary\n",
    "training_sentences = training_sentences[:1000]\n",
    "testing_sentences = testing_sentences[:1000]\n",
    "N_TR = 1000\n",
    "N_TS = 1000"
   ]
  },
  {
   "cell_type": "code",
   "execution_count": 7,
   "metadata": {},
   "outputs": [],
   "source": [
    "def window(x, window_size, drop_remainder):\n",
    "    y = []\n",
    "    loop_length = len(x)\n",
    "    if drop_remainder:\n",
    "        loop_length -= window_size\n",
    "        \n",
    "    for i in range(loop_length):\n",
    "        y.append(x[i:i+window_size])\n",
    "    return y"
   ]
  },
  {
   "cell_type": "code",
   "execution_count": 8,
   "metadata": {},
   "outputs": [
    {
     "name": "stdout",
     "output_type": "stream",
     "text": [
      "[[0, 1, 2, 3, 4], [1, 2, 3, 4, 5], [2, 3, 4, 5, 6], [3, 4, 5, 6, 7], [4, 5, 6, 7, 8], [5, 6, 7, 8, 9], [6, 7, 8, 9], [7, 8, 9], [8, 9], [9]]\n"
     ]
    },
    {
     "data": {
      "text/plain": [
       "array([[0, 1, 2, 3, 4],\n",
       "       [1, 2, 3, 4, 5],\n",
       "       [2, 3, 4, 5, 6],\n",
       "       [3, 4, 5, 6, 7],\n",
       "       [4, 5, 6, 7, 8],\n",
       "       [5, 6, 7, 8, 9],\n",
       "       [0, 6, 7, 8, 9],\n",
       "       [0, 0, 7, 8, 9],\n",
       "       [0, 0, 0, 8, 9],\n",
       "       [0, 0, 0, 0, 9]], dtype=int32)"
      ]
     },
     "execution_count": 8,
     "metadata": {},
     "output_type": "execute_result"
    }
   ],
   "source": [
    "tmp_seq = window(list(range(10)), 5, drop_remainder=False)\n",
    "print(tmp_seq)\n",
    "pad_sequences(tmp_seq, maxlen=5)"
   ]
  },
  {
   "cell_type": "code",
   "execution_count": 9,
   "metadata": {},
   "outputs": [],
   "source": [
    "def preprocess(review):\n",
    "    review = tokenizer.texts_to_sequences([str(review)])[0]\n",
    "    review = window(review, window_size=MAX_LEN+1, drop_remainder=False)\n",
    "    review = pad_sequences(review, maxlen=MAX_LEN+1)\n",
    "    last_token = review[:, -1][..., None].astype(np.int16)\n",
    "    review = review[:, :-1].astype(np.int16)\n",
    "    return review, last_token"
   ]
  },
  {
   "cell_type": "code",
   "execution_count": 10,
   "metadata": {},
   "outputs": [
    {
     "name": "stdout",
     "output_type": "stream",
     "text": [
      "VOCAB_SIZE: 10000 but actual vocab size is: 18719\n"
     ]
    }
   ],
   "source": [
    "VOCAB_SIZE = 10000\n",
    "MAX_LEN = 10\n",
    "D_MODEL = 128\n",
    "BATCH_SIZE = 5\n",
    "tokenizer = Tokenizer(num_words=VOCAB_SIZE, oov_token='<OOV>')\n",
    "tokenizer.fit_on_texts(training_sentences)\n",
    "index_word = tokenizer.index_word\n",
    "print(f'VOCAB_SIZE: {VOCAB_SIZE} but actual vocab size is: {len(list(index_word.keys()))}')\n",
    "\n",
    "def stream(data):\n",
    "    for i in range(len(data)):\n",
    "        review = data[i]\n",
    "        review, last_token = preprocess(review)\n",
    "        yield review, last_token"
   ]
  },
  {
   "cell_type": "code",
   "execution_count": 11,
   "metadata": {},
   "outputs": [
    {
     "name": "stdout",
     "output_type": "stream",
     "text": [
      "train_token.shape=(117, 10), dtype=int16\n",
      "lt.shape=(117, 1), dtype=int16\n"
     ]
    }
   ],
   "source": [
    "train_gen = stream(training_sentences)\n",
    "for review, lt in train_gen:\n",
    "    print(f'train_token.shape={review.shape}, dtype={review.dtype}')\n",
    "    print(f'lt.shape={lt.shape}, dtype={lt.dtype}')\n",
    "    break"
   ]
  },
  {
   "cell_type": "code",
   "execution_count": 12,
   "metadata": {},
   "outputs": [],
   "source": [
    "def make_dict(review, last_token):\n",
    "    return {'input_key':review, 'input_query':tf.zeros_like(last_token)}, last_token"
   ]
  },
  {
   "cell_type": "code",
   "execution_count": 13,
   "metadata": {},
   "outputs": [],
   "source": [
    "train_gen = tf.data.Dataset.from_generator(generator=stream, \n",
    "                                           args=[training_sentences], \n",
    "                                           output_types=(tf.int16, tf.int16)\n",
    "                                          )\n",
    "train_gen = train_gen.repeat().padded_batch(BATCH_SIZE, \n",
    "                                            padded_shapes=([None, MAX_LEN], [None, 1])).map(make_dict).prefetch(3)\n",
    "\n",
    "val_gen = tf.data.Dataset.from_generator(generator=stream,\n",
    "                                         args=[testing_sentences],\n",
    "                                         output_types=(tf.int16, tf.int16))\n",
    "val_gen = val_gen.repeat().padded_batch(BATCH_SIZE, padded_shapes=([None, MAX_LEN], [None, 1])).map(make_dict).prefetch(3)"
   ]
  },
  {
   "cell_type": "code",
   "execution_count": 14,
   "metadata": {},
   "outputs": [
    {
     "name": "stdout",
     "output_type": "stream",
     "text": [
      "review: (5, 133, 10)\n",
      "last token: (5, 133, 1)\n"
     ]
    }
   ],
   "source": [
    "for review_dict, lt in train_gen.as_numpy_iterator():\n",
    "    print(f'review: {review_dict[\"input_key\"].shape}')\n",
    "    print(f'last token: {lt.shape}')\n",
    "    break"
   ]
  },
  {
   "cell_type": "code",
   "execution_count": 82,
   "metadata": {},
   "outputs": [],
   "source": [
    "def accuracy(y_true, y_pred):\n",
    "    y_pred = tf.cast(tf.argmax(y_pred, axis=-1), tf.int16)\n",
    "    y_pred = tf.reshape(y_pred, [-1, 1])\n",
    "    y_true = tf.cast(y_true, tf.int16)\n",
    "    y_true = tf.reshape(y_true, [-1, 1])\n",
    "    mask = tf.cast(y_true, tf.bool)\n",
    "    return tf.keras.metrics.Accuracy(dtype=tf.float16)(y_true, y_pred, sample_weight=mask)"
   ]
  },
  {
   "cell_type": "code",
   "execution_count": 16,
   "metadata": {},
   "outputs": [],
   "source": [
    "def loss(y_true, y_pred):\n",
    "    mask = y_true['mask']\n",
    "    y_true = y_true['y_true']\n",
    "    y_true = tf.one_hot(indices=y_true, depth=VOCAB_SIZE, dtype=tf.int16)\n",
    "    loss = y_true * tf.math.log(y_pred + 1e-9)  # 1e-9 to avoid computing log(0)\n",
    "    loss = tf.reduce_sum(loss)/BATCH_SIZE\n",
    "    return loss"
   ]
  },
  {
   "cell_type": "code",
   "execution_count": 83,
   "metadata": {},
   "outputs": [
    {
     "name": "stdout",
     "output_type": "stream",
     "text": [
      "Model: \"model_1\"\n",
      "__________________________________________________________________________________________________\n",
      "Layer (type)                    Output Shape         Param #     Connected to                     \n",
      "==================================================================================================\n",
      "input_query (InputLayer)        [(5, None, 1)]       0                                            \n",
      "__________________________________________________________________________________________________\n",
      "input_key (InputLayer)          [(5, None, 10)]      0                                            \n",
      "__________________________________________________________________________________________________\n",
      "embedding_3 (Embedding)         (5, None, 1, 128)    1280000     input_query[0][0]                \n",
      "__________________________________________________________________________________________________\n",
      "embedding_2 (Embedding)         (5, None, 10, 128)   1280000     input_key[0][0]                  \n",
      "__________________________________________________________________________________________________\n",
      "lambda_4 (Lambda)               (None, 1, 128)       0           embedding_3[0][0]                \n",
      "__________________________________________________________________________________________________\n",
      "lambda_3 (Lambda)               (None, 10, 128)      0           embedding_2[0][0]                \n",
      "__________________________________________________________________________________________________\n",
      "multi_head_attention_1 (MultiHe (None, 1, 128)       263808      lambda_4[0][0]                   \n",
      "                                                                 lambda_3[0][0]                   \n",
      "__________________________________________________________________________________________________\n",
      "layer_normalization_1 (LayerNor (None, 1, 128)       256         multi_head_attention_1[0][0]     \n",
      "__________________________________________________________________________________________________\n",
      "dense_1 (Dense)                 (None, 1, 10001)     1290129     layer_normalization_1[0][0]      \n",
      "__________________________________________________________________________________________________\n",
      "lambda_5 (Lambda)               (5, None, 1, 10001)  0           dense_1[0][0]                    \n",
      "__________________________________________________________________________________________________\n",
      "softmax_1 (Softmax)             (5, None, 1, 10001)  0           lambda_5[0][0]                   \n",
      "==================================================================================================\n",
      "Total params: 4,114,193\n",
      "Trainable params: 4,114,193\n",
      "Non-trainable params: 0\n",
      "__________________________________________________________________________________________________\n"
     ]
    }
   ],
   "source": [
    "input_key = Input(shape=[None, MAX_LEN], batch_size=BATCH_SIZE, dtype=tf.int16, name='input_key')\n",
    "input_query = Input(shape=[None, 1], batch_size=BATCH_SIZE, dtype=tf.int16, name='input_query')\n",
    "\n",
    "# # Shift Right\n",
    "# y = Lambda(lambda y: tf.pad(y, paddings=[[0, 0], [0, 0], [1, 0]]))(input_query)\n",
    "x = Embedding(input_dim=VOCAB_SIZE, output_dim=D_MODEL)(input_key)\n",
    "y = Embedding(input_dim=VOCAB_SIZE, output_dim=D_MODEL)(input_query)\n",
    "# mask = np.tril(np.ones([1, 2, MAX_LEN])) # batch_size x length_of_query x length_of_key\n",
    "\n",
    "# Experimental---------------------------------------------------------------------------------------------------\n",
    "x = Lambda(lambda x: tf.reshape(x, [-1, MAX_LEN, D_MODEL]))(x)\n",
    "y = Lambda(lambda x: tf.reshape(x, [-1, 1, D_MODEL]))(y)\n",
    "#----------------------------------------------------------------------------------------------------------------\n",
    "\n",
    "output = MultiHeadAttention(num_heads=4, key_dim=D_MODEL, value_dim=D_MODEL, dropout=0.2, use_bias=True, kernel_regularizer='l2', bias_regularizer='l2')(query=y, value=x)\n",
    "# output = Lambda(lambda x: x[:, :-1])(output)\n",
    "output = LayerNormalization(axis=-1)(output)\n",
    "output = Dense(VOCAB_SIZE+1, use_bias=True, kernel_regularizer='l2', bias_regularizer='l2')(output)  # 0 for padding, and (1-VOCAB_SIZE) for words\n",
    "\n",
    "# Experimental---------------------------------------------------------------------------------------------------\n",
    "output = Lambda(lambda x: tf.reshape(x, [BATCH_SIZE, -1, 1, VOCAB_SIZE+1]))(output)\n",
    "#----------------------------------------------------------------------------------------------------------------\n",
    "output = Softmax(axis=-1)(output)\n",
    "model = Model(inputs=[input_key, input_query], outputs=output)\n",
    "model.summary()"
   ]
  },
  {
   "cell_type": "code",
   "execution_count": 81,
   "metadata": {},
   "outputs": [
    {
     "name": "stdout",
     "output_type": "stream",
     "text": [
      "(<tf.Tensor: shape=(), dtype=float16, numpy=0.5>, <tf.Tensor: shape=(), dtype=float16, numpy=0.5>)\n"
     ]
    }
   ],
   "source": [
    "# Rough calculation for accuracy\n",
    "\n",
    "sample_pred = np.random.randint(0, 2, size=[1, 3, 1, 1], dtype=np.int8)\n",
    "sample_true = np.random.randint(0, 2, size=[1, 3, 1, 1], dtype=np.int8)\n",
    "sample_pred = tf.reshape(sample_pred, [-1, 1])\n",
    "sample_true = tf.reshape(sample_true, [-1, 1])\n",
    "my_acc = tf.reduce_sum(tf.cast(tf.equal(sample_pred, sample_true), tf.float16) * np.array([[1], [1], [0]]))/2\n",
    "tf_acc = tf.keras.metrics.Accuracy(dtype=tf.float16)(sample_true, sample_pred, sample_weight=[True, True, False])\n",
    "print((my_acc, tf_acc))"
   ]
  },
  {
   "cell_type": "code",
   "execution_count": 58,
   "metadata": {},
   "outputs": [
    {
     "name": "stdout",
     "output_type": "stream",
     "text": [
      "tf.Tensor(\n",
      "[[ True  True False]\n",
      " [ True False False]], shape=(2, 3), dtype=bool)\n"
     ]
    }
   ],
   "source": [
    "sample_x = np.array([[1, 2, 0], [3, 0, 0]], dtype=np.int8)\n",
    "mask = tf.cast(sample_x, tf.bool)\n",
    "print(mask)"
   ]
  },
  {
   "cell_type": "code",
   "execution_count": 84,
   "metadata": {},
   "outputs": [
    {
     "name": "stdout",
     "output_type": "stream",
     "text": [
      "Epoch 1/500\n"
     ]
    },
    {
     "ename": "ValueError",
     "evalue": "in user code:\n\n    /home/rajkumarcm/tf/lib/python3.8/site-packages/tensorflow/python/keras/engine/training.py:805 train_function  *\n        return step_function(self, iterator)\n    <ipython-input-82-56b227135ad9>:7 my_accuracy  *\n        return tf.keras.metrics.Accuracy(dtype=tf.float16)(y_true, y_pred, sample_weight=mask)\n    /home/rajkumarcm/tf/lib/python3.8/site-packages/tensorflow/python/keras/metrics.py:684 __init__  **\n        super(Accuracy, self).__init__(accuracy, name, dtype=dtype)\n    /home/rajkumarcm/tf/lib/python3.8/site-packages/tensorflow/python/keras/metrics.py:584 __init__\n        super(MeanMetricWrapper, self).__init__(name=name, dtype=dtype)\n    /home/rajkumarcm/tf/lib/python3.8/site-packages/tensorflow/python/keras/metrics.py:488 __init__\n        super(Mean, self).__init__(\n    /home/rajkumarcm/tf/lib/python3.8/site-packages/tensorflow/python/keras/metrics.py:335 __init__\n        self.total = self.add_weight(\n    /home/rajkumarcm/tf/lib/python3.8/site-packages/tensorflow/python/keras/metrics.py:306 add_weight\n        return super(Metric, self).add_weight(\n    /home/rajkumarcm/tf/lib/python3.8/site-packages/tensorflow/python/keras/engine/base_layer.py:623 add_weight\n        variable = self._add_variable_with_custom_getter(\n    /home/rajkumarcm/tf/lib/python3.8/site-packages/tensorflow/python/training/tracking/base.py:805 _add_variable_with_custom_getter\n        new_variable = getter(\n    /home/rajkumarcm/tf/lib/python3.8/site-packages/tensorflow/python/keras/engine/base_layer_utils.py:130 make_variable\n        return tf_variables.VariableV1(\n    /home/rajkumarcm/tf/lib/python3.8/site-packages/tensorflow/python/ops/variables.py:260 __call__\n        return cls._variable_v1_call(*args, **kwargs)\n    /home/rajkumarcm/tf/lib/python3.8/site-packages/tensorflow/python/ops/variables.py:206 _variable_v1_call\n        return previous_getter(\n    /home/rajkumarcm/tf/lib/python3.8/site-packages/tensorflow/python/ops/variables.py:67 getter\n        return captured_getter(captured_previous, **kwargs)\n    /home/rajkumarcm/tf/lib/python3.8/site-packages/tensorflow/python/distribute/distribute_lib.py:3332 creator\n        return next_creator(**kwargs)\n    /home/rajkumarcm/tf/lib/python3.8/site-packages/tensorflow/python/ops/variables.py:67 getter\n        return captured_getter(captured_previous, **kwargs)\n    /home/rajkumarcm/tf/lib/python3.8/site-packages/tensorflow/python/distribute/distribute_lib.py:3332 creator\n        return next_creator(**kwargs)\n    /home/rajkumarcm/tf/lib/python3.8/site-packages/tensorflow/python/ops/variables.py:67 getter\n        return captured_getter(captured_previous, **kwargs)\n    /home/rajkumarcm/tf/lib/python3.8/site-packages/tensorflow/python/distribute/distribute_lib.py:3332 creator\n        return next_creator(**kwargs)\n    /home/rajkumarcm/tf/lib/python3.8/site-packages/tensorflow/python/ops/variables.py:67 getter\n        return captured_getter(captured_previous, **kwargs)\n    /home/rajkumarcm/tf/lib/python3.8/site-packages/tensorflow/python/eager/def_function.py:730 invalid_creator_scope\n        raise ValueError(\n\n    ValueError: tf.function-decorated function tried to create variables on non-first call.\n",
     "output_type": "error",
     "traceback": [
      "\u001b[0;31m---------------------------------------------------------------------------\u001b[0m",
      "\u001b[0;31mValueError\u001b[0m                                Traceback (most recent call last)",
      "\u001b[0;32m<ipython-input-84-83b527924988>\u001b[0m in \u001b[0;36m<module>\u001b[0;34m\u001b[0m\n\u001b[1;32m      4\u001b[0m \u001b[0mtb_callback\u001b[0m \u001b[0;34m=\u001b[0m \u001b[0mtf\u001b[0m\u001b[0;34m.\u001b[0m\u001b[0mkeras\u001b[0m\u001b[0;34m.\u001b[0m\u001b[0mcallbacks\u001b[0m\u001b[0;34m.\u001b[0m\u001b[0mTensorBoard\u001b[0m\u001b[0;34m(\u001b[0m\u001b[0mlog_dir\u001b[0m\u001b[0;34m=\u001b[0m\u001b[0;34m'logs_small1'\u001b[0m\u001b[0;34m,\u001b[0m \u001b[0mwrite_graph\u001b[0m\u001b[0;34m=\u001b[0m\u001b[0;32mTrue\u001b[0m\u001b[0;34m,\u001b[0m \u001b[0mwrite_images\u001b[0m\u001b[0;34m=\u001b[0m\u001b[0;32mFalse\u001b[0m\u001b[0;34m,\u001b[0m \u001b[0mupdate_freq\u001b[0m\u001b[0;34m=\u001b[0m\u001b[0;34m'epoch'\u001b[0m\u001b[0;34m,\u001b[0m \u001b[0mprofile_batch\u001b[0m\u001b[0;34m=\u001b[0m\u001b[0;34m[\u001b[0m\u001b[0;36m5\u001b[0m\u001b[0;34m,\u001b[0m\u001b[0;36m10\u001b[0m\u001b[0;34m]\u001b[0m\u001b[0;34m)\u001b[0m\u001b[0;34m\u001b[0m\u001b[0;34m\u001b[0m\u001b[0m\n\u001b[1;32m      5\u001b[0m \u001b[0mmodel\u001b[0m\u001b[0;34m.\u001b[0m\u001b[0mcompile\u001b[0m\u001b[0;34m(\u001b[0m\u001b[0moptimizer\u001b[0m\u001b[0;34m=\u001b[0m\u001b[0;34m'rmsprop'\u001b[0m\u001b[0;34m,\u001b[0m \u001b[0mloss\u001b[0m\u001b[0;34m=\u001b[0m\u001b[0;34m'sparse_categorical_crossentropy'\u001b[0m\u001b[0;34m,\u001b[0m \u001b[0mmetrics\u001b[0m\u001b[0;34m=\u001b[0m\u001b[0;34m[\u001b[0m\u001b[0mmy_accuracy\u001b[0m\u001b[0;34m]\u001b[0m\u001b[0;34m)\u001b[0m\u001b[0;34m\u001b[0m\u001b[0;34m\u001b[0m\u001b[0m\n\u001b[0;32m----> 6\u001b[0;31m model.fit(train_gen, validation_data=val_gen, epochs=500, \n\u001b[0m\u001b[1;32m      7\u001b[0m           \u001b[0msteps_per_epoch\u001b[0m\u001b[0;34m=\u001b[0m\u001b[0mN_TR\u001b[0m\u001b[0;34m//\u001b[0m\u001b[0mBATCH_SIZE\u001b[0m\u001b[0;34m,\u001b[0m \u001b[0mvalidation_steps\u001b[0m\u001b[0;34m=\u001b[0m\u001b[0mN_TS\u001b[0m\u001b[0;34m//\u001b[0m\u001b[0mBATCH_SIZE\u001b[0m\u001b[0;34m,\u001b[0m\u001b[0;34m\u001b[0m\u001b[0;34m\u001b[0m\u001b[0m\n\u001b[1;32m      8\u001b[0m           callbacks=[save_checkpoint, tb_callback])\n",
      "\u001b[0;32m~/tf/lib/python3.8/site-packages/tensorflow/python/keras/engine/training.py\u001b[0m in \u001b[0;36mfit\u001b[0;34m(self, x, y, batch_size, epochs, verbose, callbacks, validation_split, validation_data, shuffle, class_weight, sample_weight, initial_epoch, steps_per_epoch, validation_steps, validation_batch_size, validation_freq, max_queue_size, workers, use_multiprocessing)\u001b[0m\n\u001b[1;32m   1098\u001b[0m                 _r=1):\n\u001b[1;32m   1099\u001b[0m               \u001b[0mcallbacks\u001b[0m\u001b[0;34m.\u001b[0m\u001b[0mon_train_batch_begin\u001b[0m\u001b[0;34m(\u001b[0m\u001b[0mstep\u001b[0m\u001b[0;34m)\u001b[0m\u001b[0;34m\u001b[0m\u001b[0;34m\u001b[0m\u001b[0m\n\u001b[0;32m-> 1100\u001b[0;31m               \u001b[0mtmp_logs\u001b[0m \u001b[0;34m=\u001b[0m \u001b[0mself\u001b[0m\u001b[0;34m.\u001b[0m\u001b[0mtrain_function\u001b[0m\u001b[0;34m(\u001b[0m\u001b[0miterator\u001b[0m\u001b[0;34m)\u001b[0m\u001b[0;34m\u001b[0m\u001b[0;34m\u001b[0m\u001b[0m\n\u001b[0m\u001b[1;32m   1101\u001b[0m               \u001b[0;32mif\u001b[0m \u001b[0mdata_handler\u001b[0m\u001b[0;34m.\u001b[0m\u001b[0mshould_sync\u001b[0m\u001b[0;34m:\u001b[0m\u001b[0;34m\u001b[0m\u001b[0;34m\u001b[0m\u001b[0m\n\u001b[1;32m   1102\u001b[0m                 \u001b[0mcontext\u001b[0m\u001b[0;34m.\u001b[0m\u001b[0masync_wait\u001b[0m\u001b[0;34m(\u001b[0m\u001b[0;34m)\u001b[0m\u001b[0;34m\u001b[0m\u001b[0;34m\u001b[0m\u001b[0m\n",
      "\u001b[0;32m~/tf/lib/python3.8/site-packages/tensorflow/python/eager/def_function.py\u001b[0m in \u001b[0;36m__call__\u001b[0;34m(self, *args, **kwds)\u001b[0m\n\u001b[1;32m    826\u001b[0m     \u001b[0mtracing_count\u001b[0m \u001b[0;34m=\u001b[0m \u001b[0mself\u001b[0m\u001b[0;34m.\u001b[0m\u001b[0mexperimental_get_tracing_count\u001b[0m\u001b[0;34m(\u001b[0m\u001b[0;34m)\u001b[0m\u001b[0;34m\u001b[0m\u001b[0;34m\u001b[0m\u001b[0m\n\u001b[1;32m    827\u001b[0m     \u001b[0;32mwith\u001b[0m \u001b[0mtrace\u001b[0m\u001b[0;34m.\u001b[0m\u001b[0mTrace\u001b[0m\u001b[0;34m(\u001b[0m\u001b[0mself\u001b[0m\u001b[0;34m.\u001b[0m\u001b[0m_name\u001b[0m\u001b[0;34m)\u001b[0m \u001b[0;32mas\u001b[0m \u001b[0mtm\u001b[0m\u001b[0;34m:\u001b[0m\u001b[0;34m\u001b[0m\u001b[0;34m\u001b[0m\u001b[0m\n\u001b[0;32m--> 828\u001b[0;31m       \u001b[0mresult\u001b[0m \u001b[0;34m=\u001b[0m \u001b[0mself\u001b[0m\u001b[0;34m.\u001b[0m\u001b[0m_call\u001b[0m\u001b[0;34m(\u001b[0m\u001b[0;34m*\u001b[0m\u001b[0margs\u001b[0m\u001b[0;34m,\u001b[0m \u001b[0;34m**\u001b[0m\u001b[0mkwds\u001b[0m\u001b[0;34m)\u001b[0m\u001b[0;34m\u001b[0m\u001b[0;34m\u001b[0m\u001b[0m\n\u001b[0m\u001b[1;32m    829\u001b[0m       \u001b[0mcompiler\u001b[0m \u001b[0;34m=\u001b[0m \u001b[0;34m\"xla\"\u001b[0m \u001b[0;32mif\u001b[0m \u001b[0mself\u001b[0m\u001b[0;34m.\u001b[0m\u001b[0m_experimental_compile\u001b[0m \u001b[0;32melse\u001b[0m \u001b[0;34m\"nonXla\"\u001b[0m\u001b[0;34m\u001b[0m\u001b[0;34m\u001b[0m\u001b[0m\n\u001b[1;32m    830\u001b[0m       \u001b[0mnew_tracing_count\u001b[0m \u001b[0;34m=\u001b[0m \u001b[0mself\u001b[0m\u001b[0;34m.\u001b[0m\u001b[0mexperimental_get_tracing_count\u001b[0m\u001b[0;34m(\u001b[0m\u001b[0;34m)\u001b[0m\u001b[0;34m\u001b[0m\u001b[0;34m\u001b[0m\u001b[0m\n",
      "\u001b[0;32m~/tf/lib/python3.8/site-packages/tensorflow/python/eager/def_function.py\u001b[0m in \u001b[0;36m_call\u001b[0;34m(self, *args, **kwds)\u001b[0m\n\u001b[1;32m    886\u001b[0m         \u001b[0;31m# Lifting succeeded, so variables are initialized and we can run the\u001b[0m\u001b[0;34m\u001b[0m\u001b[0;34m\u001b[0m\u001b[0;34m\u001b[0m\u001b[0m\n\u001b[1;32m    887\u001b[0m         \u001b[0;31m# stateless function.\u001b[0m\u001b[0;34m\u001b[0m\u001b[0;34m\u001b[0m\u001b[0;34m\u001b[0m\u001b[0m\n\u001b[0;32m--> 888\u001b[0;31m         \u001b[0;32mreturn\u001b[0m \u001b[0mself\u001b[0m\u001b[0;34m.\u001b[0m\u001b[0m_stateless_fn\u001b[0m\u001b[0;34m(\u001b[0m\u001b[0;34m*\u001b[0m\u001b[0margs\u001b[0m\u001b[0;34m,\u001b[0m \u001b[0;34m**\u001b[0m\u001b[0mkwds\u001b[0m\u001b[0;34m)\u001b[0m\u001b[0;34m\u001b[0m\u001b[0;34m\u001b[0m\u001b[0m\n\u001b[0m\u001b[1;32m    889\u001b[0m     \u001b[0;32melse\u001b[0m\u001b[0;34m:\u001b[0m\u001b[0;34m\u001b[0m\u001b[0;34m\u001b[0m\u001b[0m\n\u001b[1;32m    890\u001b[0m       \u001b[0m_\u001b[0m\u001b[0;34m,\u001b[0m \u001b[0m_\u001b[0m\u001b[0;34m,\u001b[0m \u001b[0m_\u001b[0m\u001b[0;34m,\u001b[0m \u001b[0mfiltered_flat_args\u001b[0m \u001b[0;34m=\u001b[0m\u001b[0;31m \u001b[0m\u001b[0;31m\\\u001b[0m\u001b[0;34m\u001b[0m\u001b[0;34m\u001b[0m\u001b[0m\n",
      "\u001b[0;32m~/tf/lib/python3.8/site-packages/tensorflow/python/eager/function.py\u001b[0m in \u001b[0;36m__call__\u001b[0;34m(self, *args, **kwargs)\u001b[0m\n\u001b[1;32m   2939\u001b[0m     \u001b[0;32mwith\u001b[0m \u001b[0mself\u001b[0m\u001b[0;34m.\u001b[0m\u001b[0m_lock\u001b[0m\u001b[0;34m:\u001b[0m\u001b[0;34m\u001b[0m\u001b[0;34m\u001b[0m\u001b[0m\n\u001b[1;32m   2940\u001b[0m       (graph_function,\n\u001b[0;32m-> 2941\u001b[0;31m        filtered_flat_args) = self._maybe_define_function(args, kwargs)\n\u001b[0m\u001b[1;32m   2942\u001b[0m     return graph_function._call_flat(\n\u001b[1;32m   2943\u001b[0m         filtered_flat_args, captured_inputs=graph_function.captured_inputs)  # pylint: disable=protected-access\n",
      "\u001b[0;32m~/tf/lib/python3.8/site-packages/tensorflow/python/eager/function.py\u001b[0m in \u001b[0;36m_maybe_define_function\u001b[0;34m(self, args, kwargs)\u001b[0m\n\u001b[1;32m   3359\u001b[0m \u001b[0;34m\u001b[0m\u001b[0m\n\u001b[1;32m   3360\u001b[0m           \u001b[0mself\u001b[0m\u001b[0;34m.\u001b[0m\u001b[0m_function_cache\u001b[0m\u001b[0;34m.\u001b[0m\u001b[0mmissed\u001b[0m\u001b[0;34m.\u001b[0m\u001b[0madd\u001b[0m\u001b[0;34m(\u001b[0m\u001b[0mcall_context_key\u001b[0m\u001b[0;34m)\u001b[0m\u001b[0;34m\u001b[0m\u001b[0;34m\u001b[0m\u001b[0m\n\u001b[0;32m-> 3361\u001b[0;31m           \u001b[0mgraph_function\u001b[0m \u001b[0;34m=\u001b[0m \u001b[0mself\u001b[0m\u001b[0;34m.\u001b[0m\u001b[0m_create_graph_function\u001b[0m\u001b[0;34m(\u001b[0m\u001b[0margs\u001b[0m\u001b[0;34m,\u001b[0m \u001b[0mkwargs\u001b[0m\u001b[0;34m)\u001b[0m\u001b[0;34m\u001b[0m\u001b[0;34m\u001b[0m\u001b[0m\n\u001b[0m\u001b[1;32m   3362\u001b[0m           \u001b[0mself\u001b[0m\u001b[0;34m.\u001b[0m\u001b[0m_function_cache\u001b[0m\u001b[0;34m.\u001b[0m\u001b[0mprimary\u001b[0m\u001b[0;34m[\u001b[0m\u001b[0mcache_key\u001b[0m\u001b[0;34m]\u001b[0m \u001b[0;34m=\u001b[0m \u001b[0mgraph_function\u001b[0m\u001b[0;34m\u001b[0m\u001b[0;34m\u001b[0m\u001b[0m\n\u001b[1;32m   3363\u001b[0m \u001b[0;34m\u001b[0m\u001b[0m\n",
      "\u001b[0;32m~/tf/lib/python3.8/site-packages/tensorflow/python/eager/function.py\u001b[0m in \u001b[0;36m_create_graph_function\u001b[0;34m(self, args, kwargs, override_flat_arg_shapes)\u001b[0m\n\u001b[1;32m   3194\u001b[0m     \u001b[0marg_names\u001b[0m \u001b[0;34m=\u001b[0m \u001b[0mbase_arg_names\u001b[0m \u001b[0;34m+\u001b[0m \u001b[0mmissing_arg_names\u001b[0m\u001b[0;34m\u001b[0m\u001b[0;34m\u001b[0m\u001b[0m\n\u001b[1;32m   3195\u001b[0m     graph_function = ConcreteFunction(\n\u001b[0;32m-> 3196\u001b[0;31m         func_graph_module.func_graph_from_py_func(\n\u001b[0m\u001b[1;32m   3197\u001b[0m             \u001b[0mself\u001b[0m\u001b[0;34m.\u001b[0m\u001b[0m_name\u001b[0m\u001b[0;34m,\u001b[0m\u001b[0;34m\u001b[0m\u001b[0;34m\u001b[0m\u001b[0m\n\u001b[1;32m   3198\u001b[0m             \u001b[0mself\u001b[0m\u001b[0;34m.\u001b[0m\u001b[0m_python_function\u001b[0m\u001b[0;34m,\u001b[0m\u001b[0;34m\u001b[0m\u001b[0;34m\u001b[0m\u001b[0m\n",
      "\u001b[0;32m~/tf/lib/python3.8/site-packages/tensorflow/python/framework/func_graph.py\u001b[0m in \u001b[0;36mfunc_graph_from_py_func\u001b[0;34m(name, python_func, args, kwargs, signature, func_graph, autograph, autograph_options, add_control_dependencies, arg_names, op_return_value, collections, capture_by_value, override_flat_arg_shapes)\u001b[0m\n\u001b[1;32m    988\u001b[0m         \u001b[0m_\u001b[0m\u001b[0;34m,\u001b[0m \u001b[0moriginal_func\u001b[0m \u001b[0;34m=\u001b[0m \u001b[0mtf_decorator\u001b[0m\u001b[0;34m.\u001b[0m\u001b[0munwrap\u001b[0m\u001b[0;34m(\u001b[0m\u001b[0mpython_func\u001b[0m\u001b[0;34m)\u001b[0m\u001b[0;34m\u001b[0m\u001b[0;34m\u001b[0m\u001b[0m\n\u001b[1;32m    989\u001b[0m \u001b[0;34m\u001b[0m\u001b[0m\n\u001b[0;32m--> 990\u001b[0;31m       \u001b[0mfunc_outputs\u001b[0m \u001b[0;34m=\u001b[0m \u001b[0mpython_func\u001b[0m\u001b[0;34m(\u001b[0m\u001b[0;34m*\u001b[0m\u001b[0mfunc_args\u001b[0m\u001b[0;34m,\u001b[0m \u001b[0;34m**\u001b[0m\u001b[0mfunc_kwargs\u001b[0m\u001b[0;34m)\u001b[0m\u001b[0;34m\u001b[0m\u001b[0;34m\u001b[0m\u001b[0m\n\u001b[0m\u001b[1;32m    991\u001b[0m \u001b[0;34m\u001b[0m\u001b[0m\n\u001b[1;32m    992\u001b[0m       \u001b[0;31m# invariant: `func_outputs` contains only Tensors, CompositeTensors,\u001b[0m\u001b[0;34m\u001b[0m\u001b[0;34m\u001b[0m\u001b[0;34m\u001b[0m\u001b[0m\n",
      "\u001b[0;32m~/tf/lib/python3.8/site-packages/tensorflow/python/eager/def_function.py\u001b[0m in \u001b[0;36mwrapped_fn\u001b[0;34m(*args, **kwds)\u001b[0m\n\u001b[1;32m    632\u001b[0m             \u001b[0mxla_context\u001b[0m\u001b[0;34m.\u001b[0m\u001b[0mExit\u001b[0m\u001b[0;34m(\u001b[0m\u001b[0;34m)\u001b[0m\u001b[0;34m\u001b[0m\u001b[0;34m\u001b[0m\u001b[0m\n\u001b[1;32m    633\u001b[0m         \u001b[0;32melse\u001b[0m\u001b[0;34m:\u001b[0m\u001b[0;34m\u001b[0m\u001b[0;34m\u001b[0m\u001b[0m\n\u001b[0;32m--> 634\u001b[0;31m           \u001b[0mout\u001b[0m \u001b[0;34m=\u001b[0m \u001b[0mweak_wrapped_fn\u001b[0m\u001b[0;34m(\u001b[0m\u001b[0;34m)\u001b[0m\u001b[0;34m.\u001b[0m\u001b[0m__wrapped__\u001b[0m\u001b[0;34m(\u001b[0m\u001b[0;34m*\u001b[0m\u001b[0margs\u001b[0m\u001b[0;34m,\u001b[0m \u001b[0;34m**\u001b[0m\u001b[0mkwds\u001b[0m\u001b[0;34m)\u001b[0m\u001b[0;34m\u001b[0m\u001b[0;34m\u001b[0m\u001b[0m\n\u001b[0m\u001b[1;32m    635\u001b[0m         \u001b[0;32mreturn\u001b[0m \u001b[0mout\u001b[0m\u001b[0;34m\u001b[0m\u001b[0;34m\u001b[0m\u001b[0m\n\u001b[1;32m    636\u001b[0m \u001b[0;34m\u001b[0m\u001b[0m\n",
      "\u001b[0;32m~/tf/lib/python3.8/site-packages/tensorflow/python/framework/func_graph.py\u001b[0m in \u001b[0;36mwrapper\u001b[0;34m(*args, **kwargs)\u001b[0m\n\u001b[1;32m    975\u001b[0m           \u001b[0;32mexcept\u001b[0m \u001b[0mException\u001b[0m \u001b[0;32mas\u001b[0m \u001b[0me\u001b[0m\u001b[0;34m:\u001b[0m  \u001b[0;31m# pylint:disable=broad-except\u001b[0m\u001b[0;34m\u001b[0m\u001b[0;34m\u001b[0m\u001b[0m\n\u001b[1;32m    976\u001b[0m             \u001b[0;32mif\u001b[0m \u001b[0mhasattr\u001b[0m\u001b[0;34m(\u001b[0m\u001b[0me\u001b[0m\u001b[0;34m,\u001b[0m \u001b[0;34m\"ag_error_metadata\"\u001b[0m\u001b[0;34m)\u001b[0m\u001b[0;34m:\u001b[0m\u001b[0;34m\u001b[0m\u001b[0;34m\u001b[0m\u001b[0m\n\u001b[0;32m--> 977\u001b[0;31m               \u001b[0;32mraise\u001b[0m \u001b[0me\u001b[0m\u001b[0;34m.\u001b[0m\u001b[0mag_error_metadata\u001b[0m\u001b[0;34m.\u001b[0m\u001b[0mto_exception\u001b[0m\u001b[0;34m(\u001b[0m\u001b[0me\u001b[0m\u001b[0;34m)\u001b[0m\u001b[0;34m\u001b[0m\u001b[0;34m\u001b[0m\u001b[0m\n\u001b[0m\u001b[1;32m    978\u001b[0m             \u001b[0;32melse\u001b[0m\u001b[0;34m:\u001b[0m\u001b[0;34m\u001b[0m\u001b[0;34m\u001b[0m\u001b[0m\n\u001b[1;32m    979\u001b[0m               \u001b[0;32mraise\u001b[0m\u001b[0;34m\u001b[0m\u001b[0;34m\u001b[0m\u001b[0m\n",
      "\u001b[0;31mValueError\u001b[0m: in user code:\n\n    /home/rajkumarcm/tf/lib/python3.8/site-packages/tensorflow/python/keras/engine/training.py:805 train_function  *\n        return step_function(self, iterator)\n    <ipython-input-82-56b227135ad9>:7 my_accuracy  *\n        return tf.keras.metrics.Accuracy(dtype=tf.float16)(y_true, y_pred, sample_weight=mask)\n    /home/rajkumarcm/tf/lib/python3.8/site-packages/tensorflow/python/keras/metrics.py:684 __init__  **\n        super(Accuracy, self).__init__(accuracy, name, dtype=dtype)\n    /home/rajkumarcm/tf/lib/python3.8/site-packages/tensorflow/python/keras/metrics.py:584 __init__\n        super(MeanMetricWrapper, self).__init__(name=name, dtype=dtype)\n    /home/rajkumarcm/tf/lib/python3.8/site-packages/tensorflow/python/keras/metrics.py:488 __init__\n        super(Mean, self).__init__(\n    /home/rajkumarcm/tf/lib/python3.8/site-packages/tensorflow/python/keras/metrics.py:335 __init__\n        self.total = self.add_weight(\n    /home/rajkumarcm/tf/lib/python3.8/site-packages/tensorflow/python/keras/metrics.py:306 add_weight\n        return super(Metric, self).add_weight(\n    /home/rajkumarcm/tf/lib/python3.8/site-packages/tensorflow/python/keras/engine/base_layer.py:623 add_weight\n        variable = self._add_variable_with_custom_getter(\n    /home/rajkumarcm/tf/lib/python3.8/site-packages/tensorflow/python/training/tracking/base.py:805 _add_variable_with_custom_getter\n        new_variable = getter(\n    /home/rajkumarcm/tf/lib/python3.8/site-packages/tensorflow/python/keras/engine/base_layer_utils.py:130 make_variable\n        return tf_variables.VariableV1(\n    /home/rajkumarcm/tf/lib/python3.8/site-packages/tensorflow/python/ops/variables.py:260 __call__\n        return cls._variable_v1_call(*args, **kwargs)\n    /home/rajkumarcm/tf/lib/python3.8/site-packages/tensorflow/python/ops/variables.py:206 _variable_v1_call\n        return previous_getter(\n    /home/rajkumarcm/tf/lib/python3.8/site-packages/tensorflow/python/ops/variables.py:67 getter\n        return captured_getter(captured_previous, **kwargs)\n    /home/rajkumarcm/tf/lib/python3.8/site-packages/tensorflow/python/distribute/distribute_lib.py:3332 creator\n        return next_creator(**kwargs)\n    /home/rajkumarcm/tf/lib/python3.8/site-packages/tensorflow/python/ops/variables.py:67 getter\n        return captured_getter(captured_previous, **kwargs)\n    /home/rajkumarcm/tf/lib/python3.8/site-packages/tensorflow/python/distribute/distribute_lib.py:3332 creator\n        return next_creator(**kwargs)\n    /home/rajkumarcm/tf/lib/python3.8/site-packages/tensorflow/python/ops/variables.py:67 getter\n        return captured_getter(captured_previous, **kwargs)\n    /home/rajkumarcm/tf/lib/python3.8/site-packages/tensorflow/python/distribute/distribute_lib.py:3332 creator\n        return next_creator(**kwargs)\n    /home/rajkumarcm/tf/lib/python3.8/site-packages/tensorflow/python/ops/variables.py:67 getter\n        return captured_getter(captured_previous, **kwargs)\n    /home/rajkumarcm/tf/lib/python3.8/site-packages/tensorflow/python/eager/def_function.py:730 invalid_creator_scope\n        raise ValueError(\n\n    ValueError: tf.function-decorated function tried to create variables on non-first call.\n"
     ]
    }
   ],
   "source": [
    "n_steps = N_TR//BATCH_SIZE\n",
    "save_freq = n_steps * 10\n",
    "save_checkpoint = tf.keras.callbacks.ModelCheckpoint(filepath='model/model.{epoch:02d}.h5', save_weights_only=True, save_best_only=False, save_freq=save_freq)\n",
    "tb_callback = tf.keras.callbacks.TensorBoard(log_dir='logs_small1', write_graph=True, write_images=False, update_freq='epoch', profile_batch=[5,10])\n",
    "model.compile(optimizer='rmsprop', loss='sparse_categorical_crossentropy', metrics=[accuracy])\n",
    "model.fit(train_gen, validation_data=val_gen, epochs=500, \n",
    "          steps_per_epoch=N_TR//BATCH_SIZE, validation_steps=N_TS//BATCH_SIZE,\n",
    "          callbacks=[save_checkpoint, tb_callback])"
   ]
  },
  {
   "cell_type": "code",
   "execution_count": 22,
   "metadata": {},
   "outputs": [],
   "source": [
    "# model.save_weights('model/epoch10.h5')"
   ]
  },
  {
   "cell_type": "code",
   "execution_count": 23,
   "metadata": {},
   "outputs": [],
   "source": [
    "# model.save('model/model.h5')"
   ]
  },
  {
   "cell_type": "code",
   "execution_count": 23,
   "metadata": {},
   "outputs": [],
   "source": [
    "# model.load_weights('model/model.h5')"
   ]
  },
  {
   "cell_type": "code",
   "execution_count": 24,
   "metadata": {},
   "outputs": [
    {
     "name": "stdout",
     "output_type": "stream",
     "text": [
      "Epoch 21/23\n",
      "40/40 [==============================] - 10s 217ms/step - loss: 2.3257 - val_loss: 2.1475\n",
      "Epoch 22/23\n",
      "40/40 [==============================] - 8s 211ms/step - loss: 2.3116 - val_loss: 2.1488\n",
      "Epoch 23/23\n",
      "40/40 [==============================] - 8s 211ms/step - loss: 2.3114 - val_loss: 2.1498\n"
     ]
    },
    {
     "data": {
      "text/plain": [
       "<tensorflow.python.keras.callbacks.History at 0x7f727c24e5e0>"
      ]
     },
     "execution_count": 24,
     "metadata": {},
     "output_type": "execute_result"
    }
   ],
   "source": [
    "model.fit(train_gen, validation_data=val_gen, epochs=23, initial_epoch=20,\n",
    "          steps_per_epoch=N_TR//BATCH_SIZE, validation_steps=N_TS//BATCH_SIZE)"
   ]
  },
  {
   "cell_type": "code",
   "execution_count": 32,
   "metadata": {},
   "outputs": [
    {
     "data": {
      "image/png": "[encoded data removed]",
      "text/plain": [
       "<Figure size 792x360 with 2 Axes>"
      ]
     },
     "metadata": {
      "needs_background": "light"
     },
     "output_type": "display_data"
    }
   ],
   "source": [
    "history = model.history.history\n",
    "# history.keys()\n",
    "\n",
    "import matplotlib.pyplot as plt\n",
    "\n",
    "fig, axes = plt.subplots(1, 2, figsize=(11, 5))\n",
    "axes[0].set_title('Loss')\n",
    "axes[0].set_xlabel('Epochs')\n",
    "axes[0].set_ylabel('CrossEntropy')\n",
    "axes[0].plot(list(range(10)), history['loss'], '-r', label='training')\n",
    "axes[0].plot(list(range(10)), history['val_loss'], '-b', label='validation')\n",
    "axes[0].grid(True)\n",
    "axes[0].legend()\n",
    "# axes[1].set_title('Accuracy')\n",
    "# axes[1].set_xlabel('Epochs')\n",
    "# axes[1].set_ylabel('Accuracy')\n",
    "# axes[1].plot(list(range(10)), history['accuracy'], '-r', label='training')\n",
    "# axes[1].plot(list(range(10)), history['val_accuracy'], '-b', label='validation')\n",
    "# axes[1].grid(True)\n",
    "# axes[1].legend()\n",
    "plt.show()"
   ]
  },
  {
   "cell_type": "code",
   "execution_count": 33,
   "metadata": {},
   "outputs": [],
   "source": [
    "def break_by_length(tokens, max_len):\n",
    "    review = []\n",
    "    num_rows = len(tokens)//max_len\n",
    "    for i in range(num_rows):\n",
    "        review.append(tokens[i*max_len:(i*max_len)+max_len])\n",
    "    return review"
   ]
  },
  {
   "cell_type": "code",
   "execution_count": 34,
   "metadata": {},
   "outputs": [],
   "source": [
    "# For testing custom metrics\n",
    "\n",
    "tmp_x = None\n",
    "tmp_y = None\n",
    "for x, y in val_gen:\n",
    "    tmp_x, tmp_y = x, y\n",
    "    break\n",
    "\n"
   ]
  },
  {
   "cell_type": "code",
   "execution_count": 37,
   "metadata": {},
   "outputs": [
    {
     "name": "stdout",
     "output_type": "stream",
     "text": [
      "1/1 [==============================] - 1s 795ms/step - loss: 2.4373\n",
      "2.4373056888580322\n",
      "1/1 [==============================] - 1s 966ms/step - loss: 2.1346\n",
      "2.1345860958099365\n",
      "1/1 [==============================] - 1s 1s/step - loss: 1.3385\n",
      "1.3385329246520996\n",
      "1/1 [==============================] - 1s 549ms/step - loss: 3.1829\n",
      "3.182873010635376\n",
      "1/1 [==============================] - 1s 528ms/step - loss: 3.2272\n",
      "3.2271852493286133\n",
      "1/1 [==============================] - 1s 1s/step - loss: 1.7566\n",
      "1.7565592527389526\n",
      "1/1 [==============================] - 1s 883ms/step - loss: 2.0810\n",
      "2.081033945083618\n",
      "1/1 [==============================] - 1s 747ms/step - loss: 2.3574\n",
      "2.357398509979248\n",
      "1/1 [==============================] - 1s 1s/step - loss: 1.6544\n",
      "1.6544386148452759\n",
      "1/1 [==============================] - 1s 996ms/step - loss: 1.7057\n",
      "1.7057161331176758\n"
     ]
    }
   ],
   "source": [
    "for (x, y), i in zip(val_gen, range(10)):\n",
    "    print(model.evaluate(x, y))"
   ]
  },
  {
   "cell_type": "code",
   "execution_count": 34,
   "metadata": {},
   "outputs": [],
   "source": [
    "import pdb\n",
    "def predict(model, input_x):\n",
    "    print(f'Given sentence:\\n{input_x}')\n",
    "    review = tokenizer.texts_to_sequences([str(input_x)])[0]\n",
    "    review = break_by_length(review, MAX_LEN+1)\n",
    "    review = pad_sequences(review, maxlen=MAX_LEN+1)\n",
    "    last_token = review[:, -1][None, ..., None].astype(np.int16)\n",
    "    review = review[None, :, :-1].astype(np.int16)\n",
    "    review = tf.pad(review, [[0, 24], [0, 0], [0, 0]])\n",
    "    last_token = tf.pad(last_token, [[0, 24], [0, 0], [0, 0]])\n",
    "    print(f'review.shape={review.shape}')\n",
    "    print(f'last_token.shape={last_token.shape}')\n",
    "    x, y = make_dict(review, last_token)\n",
    "    logits = model.predict(x)\n",
    "    prediction = np.argmax(logits[0], axis=-1)\n",
    "    print(f'actual y:\\n{y[0]}\\n\\npredicted y:\\n{prediction}')"
   ]
  },
  {
   "cell_type": "code",
   "execution_count": 35,
   "metadata": {},
   "outputs": [
    {
     "name": "stdout",
     "output_type": "stream",
     "text": [
      "Given sentence:\n",
      "Surviving Christmas is a surprisingly funny movie especially considering the bad publicity when it was first released. Ben Affleck is funny as an obnoxious millionaire who pays the family that occupies\n",
      "review.shape=(25, 2, 10)\n",
      "last_token.shape=(25, 2, 1)\n",
      "actual y:\n",
      "[[81]\n",
      " [16]]\n",
      "\n",
      "predicted y:\n",
      "[[2]\n",
      " [2]]\n"
     ]
    }
   ],
   "source": [
    "sample_sentence = \"Surviving Christmas is a surprisingly funny movie especially considering the bad publicity when it was first released. Ben Affleck is funny as an obnoxious millionaire who pays the family that occupies\"\n",
    "predict(model, sample_sentence)"
   ]
  },
  {
   "cell_type": "code",
   "execution_count": 23,
   "metadata": {},
   "outputs": [
    {
     "data": {
      "text/plain": [
       "'the'"
      ]
     },
     "execution_count": 23,
     "metadata": {},
     "output_type": "execute_result"
    }
   ],
   "source": [
    "tokenizer.index_word[2]"
   ]
  },
  {
   "cell_type": "code",
   "execution_count": 26,
   "metadata": {},
   "outputs": [
    {
     "name": "stdout",
     "output_type": "stream",
     "text": [
      "input_sentence:\n",
      "Surviving Christmas is a surprisingly funny movie especially considering the bad publicity when it was first released. Ben Affleck is funny as an obnoxious millionaire who pays the family that occupies his childhood home to be his family for Christmas. He then drives the family crazy with overindulgence for Christmas cheer. I have not been a Ben Affleck fan in the past (though I did like Daredevil and Paycheck) but here he is well cast in this role. I also like Christina Applegate as the daughter in the family who can't stand Affleck's character at first. Sure you can see where this movie is going but you don't care. Ignore what the critics say and rent this movie out because it is funnier than a lot of Christmas\n",
      "last_token:\n",
      "movies.\n"
     ]
    }
   ],
   "source": [
    "rand_index = np.random.randint(0, N_TS)\n",
    "input_sentence = training_sentences[rand_index]\n",
    "words = input_sentence.split()\n",
    "print(f'input_sentence:\\n{\" \".join(words[:-1])}', end=\"\\n\")\n",
    "print(f'last_token:\\n{words[-1]}')"
   ]
  }
 ],
 "metadata": {
  "kernelspec": {
   "display_name": "Python 3",
   "language": "python",
   "name": "python3"
  },
  "language_info": {
   "codemirror_mode": {
    "name": "ipython",
    "version": 3
   },
   "file_extension": ".py",
   "mimetype": "text/x-python",
   "name": "python",
   "nbconvert_exporter": "python",
   "pygments_lexer": "ipython3",
   "version": "3.8.0"
  }
 },
 "nbformat": 4,
 "nbformat_minor": 4
}
