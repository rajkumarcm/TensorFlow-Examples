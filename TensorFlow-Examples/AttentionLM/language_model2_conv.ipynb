{
 "cells": [
  {
   "cell_type": "code",
   "execution_count": 1,
   "metadata": {
    "colab": {
     "base_uri": "https://localhost:8080/",
     "height": 52
    },
    "executionInfo": {
     "elapsed": 2305,
     "status": "ok",
     "timestamp": 1615098748268,
     "user": {
      "displayName": "Rajkumar Mohan",
      "photoUrl": "https://lh3.googleusercontent.com/a-/AOh14Gi_98ARVjT2Jt5i8v_4eLmYskdDEOe-mwXNbvepCg=s64",
      "userId": "04936596794910226011"
     },
     "user_tz": -330
    },
    "id": "V27TW9xrG2As",
    "outputId": "fe3cf439-7d79-4be5-bb09-7065334024d6"
   },
   "outputs": [
    {
     "data": {
      "text/plain": [
       "'-------------------------------------------------\\nAuthor: Rajkumar Conjeevaram Mohan\\nEmail: rajkumarcm@yahoo.com\\nProgram: Language Model with Attention mechanism\\n-------------------------------------------------'"
      ]
     },
     "execution_count": 1,
     "metadata": {},
     "output_type": "execute_result"
    }
   ],
   "source": [
    "\"\"\"-------------------------------------------------\n",
    "Author: Rajkumar Conjeevaram Mohan\n",
    "Email: rajkumarcm@yahoo.com\n",
    "Program: Language Model with Attention mechanism\n",
    "-------------------------------------------------\"\"\""
   ]
  },
  {
   "cell_type": "code",
   "execution_count": 2,
   "metadata": {
    "executionInfo": {
     "elapsed": 6940,
     "status": "ok",
     "timestamp": 1615098752907,
     "user": {
      "displayName": "Rajkumar Mohan",
      "photoUrl": "https://lh3.googleusercontent.com/a-/AOh14Gi_98ARVjT2Jt5i8v_4eLmYskdDEOe-mwXNbvepCg=s64",
      "userId": "04936596794910226011"
     },
     "user_tz": -330
    },
    "id": "4qC6t6n3G2Ay"
   },
   "outputs": [],
   "source": [
    "import pdb\n",
    "import pickle\n",
    "import math\n",
    "import os\n",
    "os.environ['CUDA_VISIBLE_DEVICES']='0'\n",
    "os.environ['TF_FORCE_GPU_ALLOW_GROWTH']='true'\n",
    "import numpy as np\n",
    "from numpy.random import random\n",
    "import matplotlib\n",
    "%matplotlib inline\n",
    "from matplotlib import pyplot as plt\n",
    "import tensorflow as tf\n",
    "from tensorflow.keras import Sequential, Model\n",
    "from tensorflow.keras.layers import *\n",
    "from tensorflow.keras.preprocessing.text import Tokenizer\n",
    "from tensorflow.keras.preprocessing.sequence import pad_sequences\n",
    "import tensorflow_datasets as tfds"
   ]
  },
  {
   "cell_type": "code",
   "execution_count": 3,
   "metadata": {
    "colab": {
     "base_uri": "https://localhost:8080/"
    },
    "executionInfo": {
     "elapsed": 6938,
     "status": "ok",
     "timestamp": 1615098752907,
     "user": {
      "displayName": "Rajkumar Mohan",
      "photoUrl": "https://lh3.googleusercontent.com/a-/AOh14Gi_98ARVjT2Jt5i8v_4eLmYskdDEOe-mwXNbvepCg=s64",
      "userId": "04936596794910226011"
     },
     "user_tz": -330
    },
    "id": "mCebPUerG2Az",
    "outputId": "38fd5541-346c-4312-d4bb-096fdd6a9073"
   },
   "outputs": [],
   "source": [
    "%config Completer.use_jedi = False"
   ]
  },
  {
   "cell_type": "markdown",
   "metadata": {},
   "source": [
    "### Load data"
   ]
  },
  {
   "cell_type": "code",
   "execution_count": 4,
   "metadata": {
    "colab": {
     "base_uri": "https://localhost:8080/",
     "height": 367,
     "referenced_widgets": [
      "acb23ce411a048daa7944dba07669d4d",
      "c66d26eb911645c4bb8fffb9e9ebbf46",
      "8c50e650cba4491abdffcda2c1e56719",
      "0b1748b7dde641bfb5b0fd02c1c43c3c",
      "3f95a63bb96a4fd58c83dabe6b473e80",
      "f8ccdb87659f402aaada7ae74c2e2e57",
      "39c8ebecf0e54733b5e92184966bd842",
      "b27e466f0e444954892dcf30891407b7",
      "cd44fc97dc664487a3b467429e9f9b42",
      "4084775b626f4632af4647f93cd6b165",
      "5af6b0c24fd64d6bbcdc4984597803ba",
      "51a30c941cb946cf83ea4278c96641e1",
      "0705614d18174e4cbd296dbaa76ff69f",
      "6db2b443964d4987859ba56d5bd2f688",
      "a7d5b3ea8b2d4a668349f4ab8248547e",
      "261702bbea7b466284434a0d8ef80d74",
      "49e518af7589463494ef436c404be6b3",
      "900e8aa488e0487582a6261f03ee1be6",
      "6fbb4baa5a724cfb8605e4372dbfbdc5",
      "2d0e6acd86b84d09a8fa19117034c9f1",
      "6a0f20d54445433f9d12fcf4d00481e9",
      "232c232549634898b26d91b010fdb3fa",
      "6d6e522872ce4192bfeadae8c7c5c3e2",
      "dd4de6a5661d41bc86bf12d0d4ced0ac",
      "cbab8b2dd51e44b6a998ee20f2e52a1f",
      "741653127ebf445eae07ab5b155bafba",
      "ad2b836c0f814cbfaf48ad3d306a241a",
      "9d024db4e8ec4918949c85feb33cce7c",
      "34c369a295ec4063bc5360b4c34d11a6",
      "1cfe032c830b4f568780a846704ad807",
      "48e30bd1481142a9bcee7c37f39b5a1b",
      "724ff81bc0d045f3beaa54c45f985ea3",
      "8dc2f402f7d24b55abdb47637cbd48c9",
      "dbfeed87240f48dcb79fd81d3c331262",
      "4ea8b5c25b7146518caf0e9d6abf49b6",
      "9c35a58ad1cd4c658f1aa207b1d78ee7",
      "a511523c30cb46b19e0d638ec1b47bc7",
      "e863748a55fb442eb248799adc7a8b1e",
      "e0dc0e775a094cbeaca41b8d51bfeb24",
      "cead6b391e634f20b88a127c92cea716",
      "73af463b8c8c422aaf0dc914b6e94684",
      "1fd0ef0e2e9e4a91b2ebf4076709cbb5",
      "38d93b5cd6dc484b85483ccb1f8a2e83",
      "315a731768674d09987d9a2b8720fffd",
      "64c09c84173f4e88a25729bf82876cee",
      "d28348dc188b419fb1574374cdb34114",
      "12f18be4d84f419ea26383376745eef8",
      "59b6c1615b7849a392e8351b3bb26564",
      "beb2f8e8f9de4cafb0c27dfb3477160e",
      "70d25b17a64a4e13a378b3085e70ba94",
      "b273ceffcaa44423a3f3dc0e10ea92b4",
      "2519227f1a3a4e59bc22b9e8fb8d39c5",
      "28804f8b21a94512985cf17cebc07d12",
      "360e5dd8d8bf45cfa2b56301cc921b3e",
      "b7ae0d7e30ce4e05ac862f8e9c7f04b5",
      "c527c013b34249cfa3242cfbc76ad839",
      "e5acb8c9faca4020b314c6a192d6428e",
      "8c16c53b3e134f51b4eb452862594cb6",
      "bb6e93de3cff49fc8f031455cb61ef69",
      "349d3d18ad114703a3e98008e257de4f",
      "b40220aa7f4349b38296647ea4d33082",
      "2eed03c23b17402ca5622ca58f4d854b",
      "633df239d8634abca3dfc0e91027f648",
      "a6c46807592f40b48a58f9b09a54f0b1"
     ]
    },
    "executionInfo": {
     "elapsed": 77465,
     "status": "ok",
     "timestamp": 1615098823436,
     "user": {
      "displayName": "Rajkumar Mohan",
      "photoUrl": "https://lh3.googleusercontent.com/a-/AOh14Gi_98ARVjT2Jt5i8v_4eLmYskdDEOe-mwXNbvepCg=s64",
      "userId": "04936596794910226011"
     },
     "user_tz": -330
    },
    "id": "a_YQBCWpG2Az",
    "outputId": "9c140ad4-9ff2-41e6-9609-93306893a316"
   },
   "outputs": [],
   "source": [
    "imdb, info = tfds.load(\"imdb_reviews\", with_info=True, as_supervised=True)"
   ]
  },
  {
   "cell_type": "code",
   "execution_count": 5,
   "metadata": {
    "executionInfo": {
     "elapsed": 83512,
     "status": "ok",
     "timestamp": 1615098834917,
     "user": {
      "displayName": "Rajkumar Mohan",
      "photoUrl": "https://lh3.googleusercontent.com/a-/AOh14Gi_98ARVjT2Jt5i8v_4eLmYskdDEOe-mwXNbvepCg=s64",
      "userId": "04936596794910226011"
     },
     "user_tz": -330
    },
    "id": "fzmiC3taG2A0"
   },
   "outputs": [],
   "source": [
    "train_data, test_data = imdb['train'], imdb['test']\n",
    "\n",
    "training_sentences = []\n",
    "training_labels = []\n",
    "\n",
    "testing_sentences = []\n",
    "testing_labels = []\n",
    "\n",
    "for s, _ in train_data:\n",
    "    training_sentences.append(s.numpy().decode('utf8'))\n",
    "for s, _ in test_data:\n",
    "    testing_sentences.append(s.numpy().decode('utf8'))\n",
    "\n",
    "N_TR = len(training_sentences)\n",
    "N_TS = len(testing_sentences)\n",
    "N_VL = int(0.2 * N_TR)\n",
    "validation_sentences = training_sentences[-N_VL:]\n",
    "training_sentences = training_sentences[:-N_VL]\n",
    "N_TR = len(training_sentences)"
   ]
  },
  {
   "cell_type": "markdown",
   "metadata": {},
   "source": [
    "#### Limit data to subset of 1000 examples"
   ]
  },
  {
   "cell_type": "code",
   "execution_count": 6,
   "metadata": {
    "executionInfo": {
     "elapsed": 78086,
     "status": "ok",
     "timestamp": 1615098834918,
     "user": {
      "displayName": "Rajkumar Mohan",
      "photoUrl": "https://lh3.googleusercontent.com/a-/AOh14Gi_98ARVjT2Jt5i8v_4eLmYskdDEOe-mwXNbvepCg=s64",
      "userId": "04936596794910226011"
     },
     "user_tz": -330
    },
    "id": "EAonwSvgG2A1"
   },
   "outputs": [],
   "source": [
    "# Temporary\n",
    "training_sentences = training_sentences[:1000]\n",
    "validation_sentences = validation_sentences[:200]\n",
    "N_TR = 1000\n",
    "N_VL = 200"
   ]
  },
  {
   "cell_type": "code",
   "execution_count": 7,
   "metadata": {
    "colab": {
     "base_uri": "https://localhost:8080/"
    },
    "executionInfo": {
     "elapsed": 82743,
     "status": "ok",
     "timestamp": 1615098834918,
     "user": {
      "displayName": "Rajkumar Mohan",
      "photoUrl": "https://lh3.googleusercontent.com/a-/AOh14Gi_98ARVjT2Jt5i8v_4eLmYskdDEOe-mwXNbvepCg=s64",
      "userId": "04936596794910226011"
     },
     "user_tz": -330
    },
    "id": "eB-GCE87G2A0",
    "outputId": "85029510-0b71-4e70-f6bc-b130e918845a"
   },
   "outputs": [
    {
     "name": "stdout",
     "output_type": "stream",
     "text": [
      "Length of training set: 1000\n",
      "Length of validation set: 200\n",
      "Length of testing set: 25000\n"
     ]
    }
   ],
   "source": [
    "print(f'Length of training set: {N_TR}')\n",
    "print(f'Length of validation set: {N_VL}')\n",
    "print(f'Length of testing set: {N_TS}')"
   ]
  },
  {
   "cell_type": "markdown",
   "metadata": {},
   "source": [
    "#### Tokenizer"
   ]
  },
  {
   "cell_type": "code",
   "execution_count": 8,
   "metadata": {
    "executionInfo": {
     "elapsed": 1083,
     "status": "ok",
     "timestamp": 1615111866326,
     "user": {
      "displayName": "Rajkumar Mohan",
      "photoUrl": "https://lh3.googleusercontent.com/a-/AOh14Gi_98ARVjT2Jt5i8v_4eLmYskdDEOe-mwXNbvepCg=s64",
      "userId": "04936596794910226011"
     },
     "user_tz": -330
    },
    "id": "ApPWrK0YZYXN"
   },
   "outputs": [],
   "source": [
    "VOCAB_SIZE = 10000\n",
    "tokenizer = Tokenizer(num_words=VOCAB_SIZE, oov_token='<OOV>')\n",
    "tokenizer.fit_on_texts(training_sentences)\n",
    "index_word = tokenizer.index_word"
   ]
  },
  {
   "cell_type": "code",
   "execution_count": 9,
   "metadata": {
    "executionInfo": {
     "elapsed": 995,
     "status": "ok",
     "timestamp": 1615099559217,
     "user": {
      "displayName": "Rajkumar Mohan",
      "photoUrl": "https://lh3.googleusercontent.com/a-/AOh14Gi_98ARVjT2Jt5i8v_4eLmYskdDEOe-mwXNbvepCg=s64",
      "userId": "04936596794910226011"
     },
     "user_tz": -330
    },
    "id": "hsFiFIz6abhi"
   },
   "outputs": [],
   "source": [
    "tmp_length1 = []\n",
    "tmp_length2 = []\n",
    "\n",
    "for sentence in training_sentences:\n",
    "    tmp_tokens = tokenizer.texts_to_sequences([sentence])[0]\n",
    "    tmp_length1.append(len(tmp_tokens))\n",
    "\n",
    "for sentence in testing_sentences:\n",
    "    tmp_tokens = tokenizer.texts_to_sequences([sentence])[0]\n",
    "    tmp_length2.append(len(tmp_tokens))\n",
    "\n",
    "tmp_length1 = np.max(tmp_length1)\n",
    "tmp_length2 = np.max(tmp_length2)\n",
    "MAX_LEN = np.max([tmp_length1, tmp_length2])"
   ]
  },
  {
   "cell_type": "markdown",
   "metadata": {},
   "source": [
    "#### Create mask"
   ]
  },
  {
   "cell_type": "code",
   "execution_count": 10,
   "metadata": {
    "id": "QmViVJZ4pidL"
   },
   "outputs": [],
   "source": [
    "noise = 0.15\n",
    "\n",
    "def get_masks(tokens_seq):\n",
    "    masks = []\n",
    "    for tokens in tokens_seq:\n",
    "        while True:\n",
    "            previously_masked = False\n",
    "            mask = []\n",
    "            for token in tokens:\n",
    "                if random() < noise:\n",
    "                    if not previously_masked:\n",
    "                        mask.append(True)\n",
    "                    else:\n",
    "                        mask.append(False)\n",
    "                else:\n",
    "                    mask.append(False)\n",
    "            if any(mask):\n",
    "                break\n",
    "        masks.append(mask)\n",
    "    return masks"
   ]
  },
  {
   "cell_type": "markdown",
   "metadata": {},
   "source": [
    "### Data preprocessing"
   ]
  },
  {
   "cell_type": "code",
   "execution_count": 11,
   "metadata": {
    "id": "fQ9ybZBqG2A2"
   },
   "outputs": [],
   "source": [
    "def preprocess(review):\n",
    "    tokenized_review = tokenizer.texts_to_sequences([str(review)])[0]\n",
    "    masks = get_masks([tokenized_review])\n",
    "    tokenized_review = pad_sequences([tokenized_review], maxlen=MAX_LEN, padding='post', truncating='post')\n",
    "    tokenized_review = tokenized_review.astype(np.int16)\n",
    "    masks = pad_sequences(masks, maxlen=MAX_LEN, padding='post', truncating='post')\n",
    "    masks = masks.astype(np.bool)\n",
    "    return np.squeeze(tokenized_review), np.squeeze(masks)"
   ]
  },
  {
   "cell_type": "code",
   "execution_count": 12,
   "metadata": {
    "id": "B6UMCkSQG2A2",
    "outputId": "2b53b6ad-96c1-4c63-fdbe-22847627edec"
   },
   "outputs": [],
   "source": [
    "def stream(data):\n",
    "    for i in range(len(data)):\n",
    "        review = data[i]\n",
    "        tokenized_review, mask = preprocess(review)\n",
    "        yield tokenized_review, mask"
   ]
  },
  {
   "cell_type": "code",
   "execution_count": 13,
   "metadata": {
    "id": "3ONMb8_MG2A3"
   },
   "outputs": [],
   "source": [
    "def make_dict(tokenized_review, mask):\n",
    "    return {'input_key':tokenized_review, 'input_query':tokenized_review}, \\\n",
    "           {'mask':mask, 'target':tokenized_review}"
   ]
  },
  {
   "cell_type": "markdown",
   "metadata": {},
   "source": [
    "#### Verify whether the preprocessing steps work as they should"
   ]
  },
  {
   "cell_type": "code",
   "execution_count": 14,
   "metadata": {
    "id": "ktOhGDf1G2A2",
    "outputId": "bd9da738-f06e-4aae-880f-f48119bfc786"
   },
   "outputs": [
    {
     "name": "stdout",
     "output_type": "stream",
     "text": [
      "Stream output shape-----------------------\n",
      "train_token.shape=(2332,), dtype=int16\n",
      "mask.shape=(2332,), dtype=bool\n",
      "------------------------------------------\n",
      "\n"
     ]
    }
   ],
   "source": [
    "train_gen = stream(training_sentences)\n",
    "for review, mask in train_gen:\n",
    "    tmp_review = review\n",
    "    tmp_mask = mask\n",
    "    print('Stream output shape-----------------------')\n",
    "    print(f'train_token.shape={review.shape}, dtype={review.dtype}')\n",
    "    print(f'mask.shape={mask.shape}, dtype={mask.dtype}')\n",
    "    print('------------------------------------------\\n')\n",
    "    break"
   ]
  },
  {
   "cell_type": "code",
   "execution_count": 15,
   "metadata": {},
   "outputs": [],
   "source": [
    "# input_x, target_x = make_dict(tmp_review, tmp_mask)\n",
    "# print(f'input_x[\"input_key\"].shape={input_x[\"input_key\"].shape}')\n",
    "# print(f'input_x[\"input_key\"].shape={input_x[\"input_key\"].shape}')\n",
    "# print(f'mask.shape={target_x[\"mask\"].shape}')"
   ]
  },
  {
   "cell_type": "markdown",
   "metadata": {},
   "source": [
    "### Now, let's create data pipeline"
   ]
  },
  {
   "cell_type": "code",
   "execution_count": 16,
   "metadata": {
    "id": "UqmlmSt_G2A3"
   },
   "outputs": [],
   "source": [
    "BATCH_SIZE = 1\n",
    "\n",
    "train_gen = tf.data.Dataset.from_generator(generator=stream, \n",
    "                                           args=[training_sentences], \n",
    "                                           output_shapes=([MAX_LEN], [MAX_LEN]),\n",
    "                                           output_types=(tf.int16, tf.bool)\n",
    "                                          )\n",
    "train_gen = train_gen.repeat().batch(BATCH_SIZE)#.map(make_dict).prefetch(3)\n",
    "\n",
    "val_gen = tf.data.Dataset.from_generator(generator=stream,\n",
    "                                         args=[validation_sentences],\n",
    "                                         output_shapes=([MAX_LEN], [MAX_LEN]),\n",
    "                                         output_types=(tf.int16, tf.bool))\n",
    "val_gen = val_gen.repeat().batch(BATCH_SIZE)#.map(make_dict).prefetch(3)\n",
    "\n",
    "tes_gen = tf.data.Dataset.from_generator(generator=stream,\n",
    "                                         args=[testing_sentences],\n",
    "                                         output_shapes=([MAX_LEN], [MAX_LEN]),\n",
    "                                         output_types=(tf.int16, tf.bool))\n",
    "tes_gen = val_gen.repeat().batch(BATCH_SIZE)#.map(make_dict).prefetch(3)"
   ]
  },
  {
   "cell_type": "markdown",
   "metadata": {},
   "source": [
    "### Now once again let's confirm whether data generator work as they should"
   ]
  },
  {
   "cell_type": "markdown",
   "metadata": {},
   "source": [
    "##### Use the following snippet when map function is enabled"
   ]
  },
  {
   "cell_type": "code",
   "execution_count": 17,
   "metadata": {
    "id": "9lY7C3QpG2A3",
    "outputId": "69ea00ba-46fc-4f30-9cf3-508ff8395ac4"
   },
   "outputs": [],
   "source": [
    "# for review_dict, target_dict in train_gen.as_numpy_iterator():\n",
    "#     print(f'review: {review_dict[\"input_key\"].shape}')\n",
    "#     print(f'mask: {target_dict[\"mask\"].shape}')\n",
    "#     break"
   ]
  },
  {
   "cell_type": "markdown",
   "metadata": {},
   "source": [
    "##### Use this when map is disabled"
   ]
  },
  {
   "cell_type": "code",
   "execution_count": 18,
   "metadata": {},
   "outputs": [
    {
     "name": "stdout",
     "output_type": "stream",
     "text": [
      "Output signature of train generator-------------\n",
      "review: (1, 2332)\n",
      "mask: (1, 2332)\n",
      "------------------------------------------------\n",
      "\n",
      "Sample tokenized review: \n",
      "[ 603   12   14   34  408  418   17   89   26 6481    9   33 1070 2999\n",
      "   40  459 5012  208   23   73  149   15   12  238  337   26   63  315\n",
      "  198    9  471   60   63   73  107  100   24 4056   12 1221  730  753\n",
      "   12   17    7   34  361 3461  200 1853  494    2   84 1122  148   69\n",
      "  155   51    2 9471 9472   69  266   63 2428   19 9473 2694 9474 6482\n",
      "  969 5013    4   39 3462  128 1278   18 2999   14  167   15    3 1122\n",
      "  774 9475    9    3   17   13   14 2695    5  102  134 1340   10  224\n",
      "  663   13]\n"
     ]
    }
   ],
   "source": [
    "for tokenized_review, mask in train_gen:\n",
    "    input_x, target_x = make_dict(tokenized_review, mask)\n",
    "    print('Output signature of train generator-------------')\n",
    "    print(f'review: {tokenized_review.shape}')\n",
    "    print(f'mask: {mask.shape}')\n",
    "    print('------------------------------------------------\\n')\n",
    "    print(f'Sample tokenized review: \\n{tokenized_review[0, :100]}')\n",
    "    break"
   ]
  },
  {
   "cell_type": "code",
   "execution_count": 19,
   "metadata": {
    "id": "kfWO6J-YG2A4"
   },
   "outputs": [],
   "source": [
    "def accuracy(y_true, y_pred):\n",
    "    y_pred = tf.cast(tf.argmax(y_pred, axis=-1), tf.int16)\n",
    "    y_pred = tf.squeeze(y_pred)  # batch_size x max_len\n",
    "    target = tf.cast(y_true['target'], tf.int16)  # batch_size x max_len\n",
    "    correct = tf.cast(tf.equal(y_pred, target), dtype=tf.int16)\n",
    "    mask = tf.cast(y_true['mask'], tf.int16)\n",
    "    acc = tf.reduce_sum(correct * mask)/tf.reduce_sum(mask)\n",
    "    return acc"
   ]
  },
  {
   "cell_type": "code",
   "execution_count": 20,
   "metadata": {
    "id": "Uq4BclnkG2A4"
   },
   "outputs": [],
   "source": [
    "def loss(y_true, y_pred):\n",
    "    mask = y_true['mask']\n",
    "    target = tf.one_hot(depth=VOCAB_SIZE+1, indices=tf.cast(y_true['target'], tf.int32))\n",
    "    loss = -1 * (target * tf.math.log(y_pred + 1e-9))\n",
    "    loss = tf.reduce_sum(loss, axis=-1)\n",
    "    loss = tf.squeeze(loss)\n",
    "    loss = loss * tf.cast(mask, dtype=tf.float32)\n",
    "    loss = tf.reduce_sum(loss, axis=-1)\n",
    "    loss = tf.reduce_mean(loss)\n",
    "    return loss"
   ]
  },
  {
   "cell_type": "markdown",
   "metadata": {},
   "source": [
    "#### Verify whether the loss work as it should"
   ]
  },
  {
   "cell_type": "code",
   "execution_count": 21,
   "metadata": {},
   "outputs": [
    {
     "name": "stdout",
     "output_type": "stream",
     "text": [
      "tmp_pred.shape=(1, 2332, 10001)\n"
     ]
    },
    {
     "data": {
      "text/plain": [
       "<tf.Tensor: shape=(), dtype=float32, numpy=0.0>"
      ]
     },
     "execution_count": 21,
     "metadata": {},
     "output_type": "execute_result"
    }
   ],
   "source": [
    "tmp_pred = tf.one_hot(indices=tf.cast(input_x['input_key'], dtype=tf.int32), depth=VOCAB_SIZE+1)\n",
    "print(f'tmp_pred.shape={tmp_pred.shape}')\n",
    "loss(target_x, tmp_pred)"
   ]
  },
  {
   "cell_type": "markdown",
   "metadata": {},
   "source": [
    "#### Verify whether accuracy is working correctly"
   ]
  },
  {
   "cell_type": "code",
   "execution_count": 22,
   "metadata": {},
   "outputs": [
    {
     "data": {
      "text/plain": [
       "<tf.Tensor: shape=(), dtype=float32, numpy=1.0>"
      ]
     },
     "execution_count": 22,
     "metadata": {},
     "output_type": "execute_result"
    }
   ],
   "source": [
    "accuracy(target_x, tmp_pred)"
   ]
  },
  {
   "cell_type": "code",
   "execution_count": 23,
   "metadata": {},
   "outputs": [],
   "source": [
    "def get_angles(pos, i, d_model):\n",
    "    angle_rates = 1 / np.power(10000, (2 * (i//2)) / np.float32(d_model))\n",
    "    return pos * angle_rates\n",
    "\n",
    "def positional_encoding(position, d_model):\n",
    "    angle_rads = get_angles(np.arange(position)[:, np.newaxis],\n",
    "                          np.arange(d_model)[np.newaxis, :],\n",
    "                          d_model)\n",
    "\n",
    "    # apply sin to even indices in the array; 2i\n",
    "    angle_rads[:, 0::2] = np.sin(angle_rads[:, 0::2])\n",
    "\n",
    "    # apply cos to odd indices in the array; 2i+1\n",
    "    angle_rads[:, 1::2] = np.cos(angle_rads[:, 1::2])\n",
    "\n",
    "    pos_encoding = angle_rads[np.newaxis, ...]\n",
    "\n",
    "    return tf.cast(pos_encoding, dtype=tf.float32)"
   ]
  },
  {
   "cell_type": "code",
   "execution_count": 24,
   "metadata": {},
   "outputs": [
    {
     "data": {
      "image/png": "[encoded data removed]",
      "text/plain": [
       "<Figure size 432x288 with 1 Axes>"
      ]
     },
     "metadata": {
      "needs_background": "light"
     },
     "output_type": "display_data"
    }
   ],
   "source": [
    "pe = positional_encoding(156, 256)\n",
    "plt.figure()\n",
    "plt.imshow(pe[0])\n",
    "plt.show()"
   ]
  },
  {
   "cell_type": "code",
   "execution_count": 25,
   "metadata": {},
   "outputs": [],
   "source": [
    "def decoder_block(x, ff_size, n_heads, key_dim, value_dim, dropout):\n",
    "    mask = np.tril(np.ones([1, MAX_LEN+1, MAX_LEN+1])) # batch_size x (length_of_query+1) x length_of_key\n",
    "\n",
    "    output = MultiHeadAttention(num_heads=n_heads, key_dim=key_dim, value_dim=value_dim, \n",
    "                                dropout=dropout, use_bias=True)(query=x, value=x, attention_mask=mask)\n",
    "    output += x\n",
    "    output0 = LayerNormalization(axis=-1)(output)\n",
    "    \n",
    "    output = Dense(ff_size, activation='relu')(output0)\n",
    "    output += output0\n",
    "    output = LayerNormalization(axis=-1)(output)\n",
    "    return output"
   ]
  },
  {
   "cell_type": "code",
   "execution_count": 26,
   "metadata": {
    "id": "BUBw9kvVG2A4",
    "outputId": "87d26d7b-7cda-49fc-a21c-68e557cb91b0"
   },
   "outputs": [],
   "source": [
    "def create_model1(d_model, n_heads, n_layers=1, ff_size=256, key_dim=256, value_dim=256, dropout=0.1):\n",
    "\n",
    "    D_MODEL = d_model\n",
    "\n",
    "    x0 = Input(shape=[MAX_LEN], batch_size=BATCH_SIZE, dtype=tf.int16, name='input_key')\n",
    "\n",
    "    # # Shift Right\n",
    "    x = Lambda(lambda y: tf.pad(y, paddings=[[0, 0], [1, 0]]))(x0)\n",
    "\n",
    "    x = Embedding(input_dim=VOCAB_SIZE, output_dim=D_MODEL)(x)\n",
    "    x += positional_encoding(MAX_LEN+1, D_MODEL)\n",
    "    \n",
    "    for _ in range(n_layers):\n",
    "        x = decoder_block(x, ff_size, n_heads, key_dim, value_dim, dropout)\n",
    "        \n",
    "    x = Lambda(lambda x: x[:, :-1])(x)\n",
    "    x = Dense(VOCAB_SIZE+1, use_bias=True)(x)  # 0 for padding, and (1-VOCAB_SIZE) for words\n",
    "    x = Softmax(axis=-1)(x)\n",
    "    \n",
    "    model = Model(inputs=x0, outputs=x)\n",
    "    model.summary()\n",
    "    return model"
   ]
  },
  {
   "cell_type": "code",
   "execution_count": 27,
   "metadata": {},
   "outputs": [],
   "source": [
    "## DO NOT DELETE THIS EVEN WHEN NOT IN USE AS THIS COULD BE VERY USEFUL FOR OTHER PROJECTS\n",
    "\n",
    "def train(model, epochs, initial_epoch=0):\n",
    "    \n",
    "    train_loss_results = []\n",
    "    train_accuracy_results = []\n",
    "\n",
    "    vl_loss_results = []\n",
    "    vl_accuracy_results = []\n",
    "    \n",
    "    optimizer = tf.keras.optimizers.RMSprop(learning_rate=1e-4)\n",
    "    lr_switch = {\n",
    "                  1: 1e-5, # [20 - 40)\n",
    "                  2: 1e-6, # [40 - 60)\n",
    "                  3: 5e-7, # [60 - 80)\n",
    "                  4: 1e-7, # [80 - 100]\n",
    "    }\n",
    "    \n",
    "    def grad(model, input_x, targets):\n",
    "        with tf.GradientTape() as tape:\n",
    "            y_pred = model(input_x)\n",
    "            loss_value = loss(targets, y_pred)\n",
    "            acc = accuracy(targets, y_pred)\n",
    "        return loss_value, acc, tape.gradient(loss_value, model.trainable_variables)\n",
    "    \n",
    "    for epoch in range(initial_epoch, epochs):\n",
    "        epoch_loss_avg = tf.keras.metrics.Mean()\n",
    "        epoch_accuracy = tf.keras.metrics.Mean()\n",
    "        \n",
    "        vl_loss_avg = tf.keras.metrics.Mean()\n",
    "        vl_accuracy = tf.keras.metrics.Mean()\n",
    "\n",
    "        for (tk_reviews, mask), _ in zip(train_gen, range(N_TR//BATCH_SIZE)):\n",
    "            input_dict, target_dict = make_dict(tk_reviews, mask)\n",
    "\n",
    "            tr_loss, tr_acc, grads = grad(model, tk_reviews, target_dict)\n",
    "            optimizer.apply_gradients(zip(grads, model.trainable_variables))\n",
    "\n",
    "            epoch_loss_avg.update_state(tr_loss)\n",
    "            epoch_accuracy.update_state(tr_acc)\n",
    "\n",
    "        tr_avg_loss = epoch_loss_avg.result().numpy()\n",
    "        tr_avg_acc = epoch_accuracy.result().numpy()\n",
    "        epoch_loss_avg.reset_states()\n",
    "        epoch_accuracy.reset_states()\n",
    "\n",
    "        train_loss_results.append(tr_avg_loss)\n",
    "        train_accuracy_results.append(tr_avg_acc)\n",
    "        \n",
    "        for (tk_reviews, mask), _ in zip(val_gen, range(N_VL//BATCH_SIZE)):\n",
    "            input_dict, target_dict = make_dict(tk_reviews, mask)\n",
    "            y_pred = model(tk_reviews)\n",
    "            vl_loss = loss(target_dict, y_pred)\n",
    "            vl_acc = accuracy(target_dict, y_pred)\n",
    "            \n",
    "            vl_loss_avg.update_state(vl_loss)\n",
    "            vl_accuracy.update_state(vl_acc)\n",
    "        \n",
    "        vl_loss = vl_loss_avg.result().numpy()\n",
    "        vl_acc = vl_accuracy.result().numpy()\n",
    "        vl_loss_avg.reset_states()\n",
    "        vl_accuracy.reset_states()\n",
    "        \n",
    "        vl_loss_results.append(vl_loss)    \n",
    "        vl_accuracy_results.append(vl_acc)\n",
    "\n",
    "        print(\"Epoch %d Loss: %.3f Accuracy: %.3f Val_Loss: %.3f Val_Accuracy: %.3f\" %\\\n",
    "                      (epoch, tr_avg_loss, tr_avg_acc, vl_loss, vl_acc))\n",
    "        \n",
    "        old_lr = optimizer.learning_rate.numpy()\n",
    "        if epoch%20 == 0:\n",
    "            period = old_lr//20\n",
    "            optimizer.learning_rate.assign(lr_switch.get(period, 1e-4))\n",
    "            \n",
    "    return [ np.array(train_loss_results)[..., None], \\\n",
    "             np.array(train_accuracy_results)[..., None], \\\n",
    "             np.array(vl_loss_results)[..., None], \\\n",
    "             np.array(vl_accuracy_results)[..., None] ]"
   ]
  },
  {
   "cell_type": "code",
   "execution_count": 28,
   "metadata": {},
   "outputs": [],
   "source": [
    "EPOCHS = 50"
   ]
  },
  {
   "cell_type": "markdown",
   "metadata": {},
   "source": [
    "### Effect of Conv1D in lieu to Positional Encoding"
   ]
  },
  {
   "cell_type": "code",
   "execution_count": 29,
   "metadata": {},
   "outputs": [],
   "source": [
    "def create_model3(d_model, n_heads, n_layers=1, ff_size=256, key_dim=256, value_dim=256, dropout=0.1):\n",
    "\n",
    "    D_MODEL = d_model\n",
    "\n",
    "    x0 = Input(shape=[MAX_LEN], batch_size=BATCH_SIZE, dtype=tf.int16, name='input_key')\n",
    "\n",
    "    # # Shift Right\n",
    "    x = Lambda(lambda y: tf.pad(y, paddings=[[0, 0], [1, 0]]))(x0)\n",
    "\n",
    "    x = Embedding(input_dim=VOCAB_SIZE, output_dim=D_MODEL)(x)\n",
    "    x = Conv1D(filters=D_MODEL, kernel_size=3, padding='same')(x)\n",
    "    \n",
    "    for _ in range(n_layers):\n",
    "        x = decoder_block(x, ff_size, n_heads, key_dim, value_dim, dropout)\n",
    "        \n",
    "    x = Lambda(lambda x: x[:, :-1])(x)\n",
    "    x = Dense(VOCAB_SIZE+1, use_bias=True)(x)  # 0 for padding, and (1-VOCAB_SIZE) for words\n",
    "    x = Softmax(axis=-1)(x)\n",
    "    \n",
    "    model = Model(inputs=x0, outputs=x)\n",
    "    model.summary()\n",
    "    return model"
   ]
  },
  {
   "cell_type": "code",
   "execution_count": 30,
   "metadata": {},
   "outputs": [
    {
     "name": "stdout",
     "output_type": "stream",
     "text": [
      "Model: \"model\"\n",
      "__________________________________________________________________________________________________\n",
      "Layer (type)                    Output Shape         Param #     Connected to                     \n",
      "==================================================================================================\n",
      "input_key (InputLayer)          [(1, 2332)]          0                                            \n",
      "__________________________________________________________________________________________________\n",
      "lambda (Lambda)                 (1, 2333)            0           input_key[0][0]                  \n",
      "__________________________________________________________________________________________________\n",
      "embedding (Embedding)           (1, 2333, 256)       2560000     lambda[0][0]                     \n",
      "__________________________________________________________________________________________________\n",
      "conv1d (Conv1D)                 (1, 2333, 256)       196864      embedding[0][0]                  \n",
      "__________________________________________________________________________________________________\n",
      "multi_head_attention (MultiHead (1, 2333, 256)       1051904     conv1d[0][0]                     \n",
      "                                                                 conv1d[0][0]                     \n",
      "__________________________________________________________________________________________________\n",
      "tf.__operators__.add (TFOpLambd (1, 2333, 256)       0           multi_head_attention[0][0]       \n",
      "                                                                 conv1d[0][0]                     \n",
      "__________________________________________________________________________________________________\n",
      "layer_normalization (LayerNorma (1, 2333, 256)       512         tf.__operators__.add[0][0]       \n",
      "__________________________________________________________________________________________________\n",
      "dense (Dense)                   (1, 2333, 256)       65792       layer_normalization[0][0]        \n",
      "__________________________________________________________________________________________________\n",
      "tf.__operators__.add_1 (TFOpLam (1, 2333, 256)       0           dense[0][0]                      \n",
      "                                                                 layer_normalization[0][0]        \n",
      "__________________________________________________________________________________________________\n",
      "layer_normalization_1 (LayerNor (1, 2333, 256)       512         tf.__operators__.add_1[0][0]     \n",
      "__________________________________________________________________________________________________\n",
      "lambda_1 (Lambda)               (1, 2332, 256)       0           layer_normalization_1[0][0]      \n",
      "__________________________________________________________________________________________________\n",
      "dense_1 (Dense)                 (1, 2332, 10001)     2570257     lambda_1[0][0]                   \n",
      "__________________________________________________________________________________________________\n",
      "softmax (Softmax)               (1, 2332, 10001)     0           dense_1[0][0]                    \n",
      "==================================================================================================\n",
      "Total params: 6,445,841\n",
      "Trainable params: 6,445,841\n",
      "Non-trainable params: 0\n",
      "__________________________________________________________________________________________________\n"
     ]
    }
   ],
   "source": [
    "model3 = create_model3(d_model=256, n_heads=4, n_layers=1, ff_size=256, key_dim=256, value_dim=256, dropout=0.1)"
   ]
  },
  {
   "cell_type": "code",
   "execution_count": 31,
   "metadata": {},
   "outputs": [
    {
     "name": "stdout",
     "output_type": "stream",
     "text": [
      "('You must install pydot (`pip install pydot`) and install graphviz (see instructions at https://graphviz.gitlab.io/download/) ', 'for plot_model/model_to_dot to work.')\n"
     ]
    }
   ],
   "source": [
    "tf.keras.utils.plot_model(\n",
    "    model3, show_shapes=False, show_dtype=False,\n",
    "    show_layer_names=True, rankdir='TB', expand_nested=False, dpi=96\n",
    ")"
   ]
  },
  {
   "cell_type": "code",
   "execution_count": null,
   "metadata": {
    "scrolled": true,
    "tags": []
   },
   "outputs": [],
   "source": [
    "tmp_performance3 = train(model3, EPOCHS)\n",
    "tmp_file = open('conv_attention_perf.pkl', 'wb')\n",
    "pickle.dump(tmp_performance3, tmp_file)\n",
    "tmp_file.close()"
   ]
  },
  {
   "cell_type": "code",
   "execution_count": 33,
   "metadata": {},
   "outputs": [
    {
     "data": {
      "image/png": "[encoded data removed]",
      "text/plain": [
       "<Figure size 1296x360 with 2 Axes>"
      ]
     },
     "metadata": {
      "needs_background": "light"
     },
     "output_type": "display_data"
    }
   ],
   "source": [
    "import matplotlib.pyplot as plt\n",
    "\n",
    "fig, axes = plt.subplots(1, 2, figsize=(18, 5))\n",
    "axes[0].set_title('Loss')\n",
    "axes[0].set_xlabel('Epochs')\n",
    "axes[0].set_ylabel('CrossEntropy')\n",
    "axes[1].set_title('Accuracy')\n",
    "axes[1].set_xlabel('Epochs')\n",
    "axes[1].set_ylabel('Accuracy')\n",
    "\n",
    "axes[0].plot(range(EPOCHS), tmp_performance3[0], '-b', label='training')\n",
    "axes[0].plot(range(EPOCHS), tmp_performance3[2], '-r', label='validation')\n",
    "axes[1].plot(range(EPOCHS), tmp_performance3[1], '-b', label='training')\n",
    "axes[1].plot(range(EPOCHS), tmp_performance3[3], '-r', label='validation')\n",
    "\n",
    "axes[0].grid(True)\n",
    "axes[0].legend()\n",
    "axes[1].grid(True)\n",
    "axes[1].legend()\n",
    "# axes[1].plot(range(len(train_accuracy_results)), train_accuracy_results, '-r', label='training')\n",
    "plt.show()"
   ]
  },
  {
   "cell_type": "code",
   "execution_count": 32,
   "metadata": {},
   "outputs": [],
   "source": [
    "# model3.save('model/conv_attention.h5')"
   ]
  },
  {
   "cell_type": "code",
   "execution_count": 33,
   "metadata": {},
   "outputs": [],
   "source": [
    "model3.load_weights('model/conv_attention.h5')"
   ]
  },
  {
   "cell_type": "markdown",
   "metadata": {},
   "source": [
    "#### Impressive results. Let's find out how it generates text"
   ]
  },
  {
   "cell_type": "code",
   "execution_count": 34,
   "metadata": {},
   "outputs": [],
   "source": [
    "def detokenize(tokens):\n",
    "    text = [index_word[token] for token in tokens]\n",
    "    return text"
   ]
  },
  {
   "cell_type": "code",
   "execution_count": 53,
   "metadata": {},
   "outputs": [
    {
     "name": "stdout",
     "output_type": "stream",
     "text": [
      "Mann photographs the Alberta Rocky Mountains in a superb fashion, and Jimmy Stewart and Walter Brennan give enjoyable performances as they always seem to do. <br /><br />But come on Hollywood - a Mountie telling the people of Dawson City, Yukon to elect themselves a marshal (yes a marshal!) and to enforce the law themselves, then gunfighters battling it out on the streets for control of the town? <br /><br />Nothing even remotely resembling that happened on the Canadian side of the border during the Klondike gold rush. Mr. Mann and company appear to have mistaken Dawson City for Deadwood, the Canadian North for the American Wild West.<br /><br />Canadian viewers be prepared for a Reefer Madness type of enjoyable howl with this ludicrous plot, or, to shake your head in disgust.\n",
      "\n",
      "\n",
      "Input tmp_tokenized[0][:20]: \n",
      "[1724, 6484, 2, 9478, 2697, 2430, 9, 3, 854, 1341, 4, 3001, 1071, 4, 1342, 9479, 183, 601, 338, 16]\n",
      "\n",
      "Predicted: \n",
      "[639, 525, 2, 513, 10, 758, 9, 3, 854, 491, 4, 297, 537, 4, 266, 386, 183, 601, 338, 16]\n",
      "\n",
      "Detokenized prediction: \n",
      "['tale', 'voice', 'the', 'etc', 'i', 'sorry', 'in', 'a', 'superb', 'worse', 'and', 'plays', 'king', 'and', 'making', 'wrong', 'give', 'enjoyable', 'performances', 'as']\n"
     ]
    }
   ],
   "source": [
    "print(training_sentences[2])  # Have tried using even the validation sentence, and it still doesn't work\n",
    "tmp_tokenized = tokenizer.texts_to_sequences([training_sentences[2]])\n",
    "tmp_padded = pad_sequences(tmp_tokenized, maxlen=MAX_LEN, padding='post', truncating='post')\n",
    "tmp_pred = model3(tmp_padded)\n",
    "print('\\n')\n",
    "print(f'Input tmp_tokenized[0][:20]: \\n{tmp_tokenized[0][:20]}\\n')\n",
    "tmp_pred = list(np.argmax(tmp_pred[0, :20], axis=-1))\n",
    "print(f'Predicted: \\n{tmp_pred}\\n')\n",
    "print(f'Detokenized prediction: \\n{detokenize(tmp_pred)}')"
   ]
  },
  {
   "cell_type": "code",
   "execution_count": 50,
   "metadata": {},
   "outputs": [
    {
     "name": "stdout",
     "output_type": "stream",
     "text": [
      "[1724, 6484, 2, 9478, 2697]\n",
      "Initial length: 5\n",
      "Full length: 148\n"
     ]
    }
   ],
   "source": [
    "sample_sentence = \"Mann photographs the Alberta Rocky\"\n",
    "sample_tokenized = tokenizer.texts_to_sequences([sample_sentence])\n",
    "initial_length = len(sample_tokenized[0])\n",
    "full_length = len(tmp_tokenized[0])\n",
    "print(sample_tokenized[0])\n",
    "print(f'Initial length: {initial_length}')\n",
    "print(f'Full length: {full_length}')\n",
    "padded_tokens = pad_sequences(sample_tokenized, maxlen=MAX_LEN, padding='post', truncating='post').astype(np.int16)"
   ]
  },
  {
   "cell_type": "code",
   "execution_count": 52,
   "metadata": {},
   "outputs": [
    {
     "name": "stdout",
     "output_type": "stream",
     "text": [
      "Input: \n",
      "[[1724, 6484, 2, 9478, 2697]]\n",
      "Detokenized input: \n",
      "['mann', 'photographs', 'the', 'alberta', 'rocky']\n",
      "Predicted token: 525\n",
      "Updated Input: \n",
      "[[1724, 6484, 2, 9478, 2697, 525]]\n",
      "\n",
      "\n",
      "Input: \n",
      "[[1724, 6484, 2, 9478, 2697, 525]]\n",
      "Detokenized input: \n",
      "['mann', 'photographs', 'the', 'alberta', 'rocky', 'voice']\n",
      "Predicted token: 2\n",
      "Updated Input: \n",
      "[[1724, 6484, 2, 9478, 2697, 525, 2]]\n",
      "\n",
      "\n",
      "Input: \n",
      "[[1724, 6484, 2, 9478, 2697, 525, 2]]\n",
      "Detokenized input: \n",
      "['mann', 'photographs', 'the', 'alberta', 'rocky', 'voice', 'the']\n",
      "Predicted token: 513\n",
      "Updated Input: \n",
      "[[1724, 6484, 2, 9478, 2697, 525, 2, 513]]\n",
      "\n",
      "\n",
      "Input: \n",
      "[[1724, 6484, 2, 9478, 2697, 525, 2, 513]]\n",
      "Detokenized input: \n",
      "['mann', 'photographs', 'the', 'alberta', 'rocky', 'voice', 'the', 'etc']\n",
      "Predicted token: 10\n",
      "Updated Input: \n",
      "[[1724, 6484, 2, 9478, 2697, 525, 2, 513, 10]]\n",
      "\n",
      "\n",
      "Input: \n",
      "[[1724, 6484, 2, 9478, 2697, 525, 2, 513, 10]]\n",
      "Detokenized input: \n",
      "['mann', 'photographs', 'the', 'alberta', 'rocky', 'voice', 'the', 'etc', 'i']\n",
      "Predicted token: 525\n",
      "Updated Input: \n",
      "[[1724, 6484, 2, 9478, 2697, 525, 2, 513, 10, 525]]\n",
      "\n",
      "\n",
      "Input: \n",
      "[[1724, 6484, 2, 9478, 2697, 525, 2, 513, 10, 525]]\n",
      "Detokenized input: \n",
      "['mann', 'photographs', 'the', 'alberta', 'rocky', 'voice', 'the', 'etc', 'i', 'voice']\n",
      "Predicted token: 2\n",
      "Updated Input: \n",
      "[[1724, 6484, 2, 9478, 2697, 525, 2, 513, 10, 525, 2]]\n",
      "\n",
      "\n",
      "Input: \n",
      "[[1724, 6484, 2, 9478, 2697, 525, 2, 513, 10, 525, 2]]\n",
      "Detokenized input: \n",
      "['mann', 'photographs', 'the', 'alberta', 'rocky', 'voice', 'the', 'etc', 'i', 'voice', 'the']\n",
      "Predicted token: 513\n",
      "Updated Input: \n",
      "[[1724, 6484, 2, 9478, 2697, 525, 2, 513, 10, 525, 2, 513]]\n",
      "\n",
      "\n",
      "Input: \n",
      "[[1724, 6484, 2, 9478, 2697, 525, 2, 513, 10, 525, 2, 513]]\n",
      "Detokenized input: \n",
      "['mann', 'photographs', 'the', 'alberta', 'rocky', 'voice', 'the', 'etc', 'i', 'voice', 'the', 'etc']\n",
      "Predicted token: 10\n",
      "Updated Input: \n",
      "[[1724, 6484, 2, 9478, 2697, 525, 2, 513, 10, 525, 2, 513, 10]]\n",
      "\n",
      "\n",
      "Input: \n",
      "[[1724, 6484, 2, 9478, 2697, 525, 2, 513, 10, 525, 2, 513, 10]]\n",
      "Detokenized input: \n",
      "['mann', 'photographs', 'the', 'alberta', 'rocky', 'voice', 'the', 'etc', 'i', 'voice', 'the', 'etc', 'i']\n",
      "Predicted token: 525\n",
      "Updated Input: \n",
      "[[1724, 6484, 2, 9478, 2697, 525, 2, 513, 10, 525, 2, 513, 10, 525]]\n",
      "\n",
      "\n",
      "Input: \n",
      "[[1724, 6484, 2, 9478, 2697, 525, 2, 513, 10, 525, 2, 513, 10, 525]]\n",
      "Detokenized input: \n",
      "['mann', 'photographs', 'the', 'alberta', 'rocky', 'voice', 'the', 'etc', 'i', 'voice', 'the', 'etc', 'i', 'voice']\n",
      "Predicted token: 2\n",
      "Updated Input: \n",
      "[[1724, 6484, 2, 9478, 2697, 525, 2, 513, 10, 525, 2, 513, 10, 525, 2]]\n",
      "\n",
      "\n",
      "Input: \n",
      "[[1724, 6484, 2, 9478, 2697, 525, 2, 513, 10, 525, 2, 513, 10, 525, 2]]\n",
      "Detokenized input: \n",
      "['mann', 'photographs', 'the', 'alberta', 'rocky', 'voice', 'the', 'etc', 'i', 'voice', 'the', 'etc', 'i', 'voice', 'the']\n",
      "Predicted token: 513\n",
      "Updated Input: \n",
      "[[1724, 6484, 2, 9478, 2697, 525, 2, 513, 10, 525, 2, 513, 10, 525, 2, 513]]\n",
      "\n",
      "\n",
      "Input: \n",
      "[[1724, 6484, 2, 9478, 2697, 525, 2, 513, 10, 525, 2, 513, 10, 525, 2, 513]]\n",
      "Detokenized input: \n",
      "['mann', 'photographs', 'the', 'alberta', 'rocky', 'voice', 'the', 'etc', 'i', 'voice', 'the', 'etc', 'i', 'voice', 'the', 'etc']\n",
      "Predicted token: 10\n",
      "Updated Input: \n",
      "[[1724, 6484, 2, 9478, 2697, 525, 2, 513, 10, 525, 2, 513, 10, 525, 2, 513, 10]]\n",
      "\n",
      "\n",
      "Input: \n",
      "[[1724, 6484, 2, 9478, 2697, 525, 2, 513, 10, 525, 2, 513, 10, 525, 2, 513, 10]]\n",
      "Detokenized input: \n",
      "['mann', 'photographs', 'the', 'alberta', 'rocky', 'voice', 'the', 'etc', 'i', 'voice', 'the', 'etc', 'i', 'voice', 'the', 'etc', 'i']\n",
      "Predicted token: 525\n",
      "Updated Input: \n",
      "[[1724, 6484, 2, 9478, 2697, 525, 2, 513, 10, 525, 2, 513, 10, 525, 2, 513, 10, 525]]\n",
      "\n",
      "\n",
      "Input: \n",
      "[[1724, 6484, 2, 9478, 2697, 525, 2, 513, 10, 525, 2, 513, 10, 525, 2, 513, 10, 525]]\n",
      "Detokenized input: \n",
      "['mann', 'photographs', 'the', 'alberta', 'rocky', 'voice', 'the', 'etc', 'i', 'voice', 'the', 'etc', 'i', 'voice', 'the', 'etc', 'i', 'voice']\n",
      "Predicted token: 2\n",
      "Updated Input: \n",
      "[[1724, 6484, 2, 9478, 2697, 525, 2, 513, 10, 525, 2, 513, 10, 525, 2, 513, 10, 525, 2]]\n",
      "\n",
      "\n",
      "Input: \n",
      "[[1724, 6484, 2, 9478, 2697, 525, 2, 513, 10, 525, 2, 513, 10, 525, 2, 513, 10, 525, 2]]\n",
      "Detokenized input: \n",
      "['mann', 'photographs', 'the', 'alberta', 'rocky', 'voice', 'the', 'etc', 'i', 'voice', 'the', 'etc', 'i', 'voice', 'the', 'etc', 'i', 'voice', 'the']\n",
      "Predicted token: 513\n",
      "Updated Input: \n",
      "[[1724, 6484, 2, 9478, 2697, 525, 2, 513, 10, 525, 2, 513, 10, 525, 2, 513, 10, 525, 2, 513]]\n",
      "\n",
      "\n",
      "Input: \n",
      "[[1724, 6484, 2, 9478, 2697, 525, 2, 513, 10, 525, 2, 513, 10, 525, 2, 513, 10, 525, 2, 513]]\n",
      "Detokenized input: \n",
      "['mann', 'photographs', 'the', 'alberta', 'rocky', 'voice', 'the', 'etc', 'i', 'voice', 'the', 'etc', 'i', 'voice', 'the', 'etc', 'i', 'voice', 'the', 'etc']\n",
      "Predicted token: 10\n",
      "Updated Input: \n",
      "[[1724, 6484, 2, 9478, 2697, 525, 2, 513, 10, 525, 2, 513, 10, 525, 2, 513, 10, 525, 2, 513, 10]]\n",
      "\n",
      "\n",
      "Input: \n",
      "[[1724, 6484, 2, 9478, 2697, 525, 2, 513, 10, 525, 2, 513, 10, 525, 2, 513, 10, 525, 2, 513, 10]]\n",
      "Detokenized input: \n",
      "['mann', 'photographs', 'the', 'alberta', 'rocky', 'voice', 'the', 'etc', 'i', 'voice', 'the', 'etc', 'i', 'voice', 'the', 'etc', 'i', 'voice', 'the', 'etc', 'i']\n",
      "Predicted token: 525\n",
      "Updated Input: \n",
      "[[1724, 6484, 2, 9478, 2697, 525, 2, 513, 10, 525, 2, 513, 10, 525, 2, 513, 10, 525, 2, 513, 10, 525]]\n",
      "\n",
      "\n",
      "Input: \n",
      "[[1724, 6484, 2, 9478, 2697, 525, 2, 513, 10, 525, 2, 513, 10, 525, 2, 513, 10, 525, 2, 513, 10, 525]]\n",
      "Detokenized input: \n",
      "['mann', 'photographs', 'the', 'alberta', 'rocky', 'voice', 'the', 'etc', 'i', 'voice', 'the', 'etc', 'i', 'voice', 'the', 'etc', 'i', 'voice', 'the', 'etc', 'i', 'voice']\n",
      "Predicted token: 2\n",
      "Updated Input: \n",
      "[[1724, 6484, 2, 9478, 2697, 525, 2, 513, 10, 525, 2, 513, 10, 525, 2, 513, 10, 525, 2, 513, 10, 525, 2]]\n",
      "\n",
      "\n",
      "Input: \n",
      "[[1724, 6484, 2, 9478, 2697, 525, 2, 513, 10, 525, 2, 513, 10, 525, 2, 513, 10, 525, 2, 513, 10, 525, 2]]\n",
      "Detokenized input: \n",
      "['mann', 'photographs', 'the', 'alberta', 'rocky', 'voice', 'the', 'etc', 'i', 'voice', 'the', 'etc', 'i', 'voice', 'the', 'etc', 'i', 'voice', 'the', 'etc', 'i', 'voice', 'the']\n",
      "Predicted token: 513\n",
      "Updated Input: \n",
      "[[1724, 6484, 2, 9478, 2697, 525, 2, 513, 10, 525, 2, 513, 10, 525, 2, 513, 10, 525, 2, 513, 10, 525, 2, 513]]\n",
      "\n",
      "\n"
     ]
    }
   ],
   "source": [
    "currentraining_sentences = initial_length-1\n",
    "for i in range(current_length, 20):\n",
    "    print(f'Input: \\n{sample_tokenized}')\n",
    "    print(f'Detokenized input: \\n{detokenize(sample_tokenized[0])}')\n",
    "    sample_pred = model3(padded_tokens)\n",
    "#     pdb.set_trace()\n",
    "    sample_pred = np.argmax(sample_pred[0, i])\n",
    "    print(f'Predicted token: {sample_pred}')\n",
    "    sample_tokenized[0].append(sample_pred)\n",
    "    print(f'Updated Input: \\n{sample_tokenized}\\n\\n')\n",
    "    padded_tokens = pad_sequences(sample_tokenized, maxlen=MAX_LEN, padding='post', truncating='post').astype(np.int16)"
   ]
  },
  {
   "cell_type": "code",
   "execution_count": null,
   "metadata": {},
   "outputs": [],
   "source": []
  }
 ],
 "metadata": {
  "colab": {
   "collapsed_sections": [],
   "name": "Copy of language_model.ipynb",
   "provenance": [
    {
     "file_id": "1La83LKaZNHsGfCtxKtAWgAqAzLwHo9U5",
     "timestamp": 1615098636076
    }
   ]
  },
  "kernelspec": {
   "display_name": "Python 3",
   "language": "python",
   "name": "python3"
  },
  "language_info": {
   "codemirror_mode": {
    "name": "ipython",
    "version": 3
   },
   "file_extension": ".py",
   "mimetype": "text/x-python",
   "name": "python",
   "nbconvert_exporter": "python",
   "pygments_lexer": "ipython3",
   "version": "3.8.0"
  },
  "widgets": {
   "application/vnd.jupyter.widget-state+json": {
    "0705614d18174e4cbd296dbaa76ff69f": {
     "model_module": "@jupyter-widgets/controls",
     "model_name": "ProgressStyleModel",
     "state": {
      "_model_module": "@jupyter-widgets/controls",
      "_model_module_version": "1.5.0",
      "_model_name": "ProgressStyleModel",
      "_view_count": null,
      "_view_module": "@jupyter-widgets/base",
      "_view_module_version": "1.2.0",
      "_view_name": "StyleView",
      "bar_color": null,
      "description_width": "initial"
     }
    },
    "0b1748b7dde641bfb5b0fd02c1c43c3c": {
     "model_module": "@jupyter-widgets/controls",
     "model_name": "HTMLModel",
     "state": {
      "_dom_classes": [],
      "_model_module": "@jupyter-widgets/controls",
      "_model_module_version": "1.5.0",
      "_model_name": "HTMLModel",
      "_view_count": null,
      "_view_module": "@jupyter-widgets/controls",
      "_view_module_version": "1.5.0",
      "_view_name": "HTMLView",
      "description": "",
      "description_tooltip": null,
      "layout": "IPY_MODEL_b27e466f0e444954892dcf30891407b7",
      "placeholder": "​",
      "style": "IPY_MODEL_39c8ebecf0e54733b5e92184966bd842",
      "value": " 1/1 [00:13&lt;00:00, 13.09s/ url]"
     }
    },
    "12f18be4d84f419ea26383376745eef8": {
     "model_module": "@jupyter-widgets/controls",
     "model_name": "DescriptionStyleModel",
     "state": {
      "_model_module": "@jupyter-widgets/controls",
      "_model_module_version": "1.5.0",
      "_model_name": "DescriptionStyleModel",
      "_view_count": null,
      "_view_module": "@jupyter-widgets/base",
      "_view_module_version": "1.2.0",
      "_view_name": "StyleView",
      "description_width": ""
     }
    },
    "1cfe032c830b4f568780a846704ad807": {
     "model_module": "@jupyter-widgets/base",
     "model_name": "LayoutModel",
     "state": {
      "_model_module": "@jupyter-widgets/base",
      "_model_module_version": "1.2.0",
      "_model_name": "LayoutModel",
      "_view_count": null,
      "_view_module": "@jupyter-widgets/base",
      "_view_module_version": "1.2.0",
      "_view_name": "LayoutView",
      "align_content": null,
      "align_items": null,
      "align_self": null,
      "border": null,
      "bottom": null,
      "display": null,
      "flex": null,
      "flex_flow": null,
      "grid_area": null,
      "grid_auto_columns": null,
      "grid_auto_flow": null,
      "grid_auto_rows": null,
      "grid_column": null,
      "grid_gap": null,
      "grid_row": null,
      "grid_template_areas": null,
      "grid_template_columns": null,
      "grid_template_rows": null,
      "height": null,
      "justify_content": null,
      "justify_items": null,
      "left": null,
      "margin": null,
      "max_height": null,
      "max_width": null,
      "min_height": null,
      "min_width": null,
      "object_fit": null,
      "object_position": null,
      "order": null,
      "overflow": null,
      "overflow_x": null,
      "overflow_y": null,
      "padding": null,
      "right": null,
      "top": null,
      "visibility": null,
      "width": null
     }
    },
    "1fd0ef0e2e9e4a91b2ebf4076709cbb5": {
     "model_module": "@jupyter-widgets/base",
     "model_name": "LayoutModel",
     "state": {
      "_model_module": "@jupyter-widgets/base",
      "_model_module_version": "1.2.0",
      "_model_name": "LayoutModel",
      "_view_count": null,
      "_view_module": "@jupyter-widgets/base",
      "_view_module_version": "1.2.0",
      "_view_name": "LayoutView",
      "align_content": null,
      "align_items": null,
      "align_self": null,
      "border": null,
      "bottom": null,
      "display": null,
      "flex": null,
      "flex_flow": null,
      "grid_area": null,
      "grid_auto_columns": null,
      "grid_auto_flow": null,
      "grid_auto_rows": null,
      "grid_column": null,
      "grid_gap": null,
      "grid_row": null,
      "grid_template_areas": null,
      "grid_template_columns": null,
      "grid_template_rows": null,
      "height": null,
      "justify_content": null,
      "justify_items": null,
      "left": null,
      "margin": null,
      "max_height": null,
      "max_width": null,
      "min_height": null,
      "min_width": null,
      "object_fit": null,
      "object_position": null,
      "order": null,
      "overflow": null,
      "overflow_x": null,
      "overflow_y": null,
      "padding": null,
      "right": null,
      "top": null,
      "visibility": null,
      "width": null
     }
    },
    "232c232549634898b26d91b010fdb3fa": {
     "model_module": "@jupyter-widgets/base",
     "model_name": "LayoutModel",
     "state": {
      "_model_module": "@jupyter-widgets/base",
      "_model_module_version": "1.2.0",
      "_model_name": "LayoutModel",
      "_view_count": null,
      "_view_module": "@jupyter-widgets/base",
      "_view_module_version": "1.2.0",
      "_view_name": "LayoutView",
      "align_content": null,
      "align_items": null,
      "align_self": null,
      "border": null,
      "bottom": null,
      "display": null,
      "flex": null,
      "flex_flow": null,
      "grid_area": null,
      "grid_auto_columns": null,
      "grid_auto_flow": null,
      "grid_auto_rows": null,
      "grid_column": null,
      "grid_gap": null,
      "grid_row": null,
      "grid_template_areas": null,
      "grid_template_columns": null,
      "grid_template_rows": null,
      "height": null,
      "justify_content": null,
      "justify_items": null,
      "left": null,
      "margin": null,
      "max_height": null,
      "max_width": null,
      "min_height": null,
      "min_width": null,
      "object_fit": null,
      "object_position": null,
      "order": null,
      "overflow": null,
      "overflow_x": null,
      "overflow_y": null,
      "padding": null,
      "right": null,
      "top": null,
      "visibility": null,
      "width": null
     }
    },
    "2519227f1a3a4e59bc22b9e8fb8d39c5": {
     "model_module": "@jupyter-widgets/controls",
     "model_name": "HTMLModel",
     "state": {
      "_dom_classes": [],
      "_model_module": "@jupyter-widgets/controls",
      "_model_module_version": "1.5.0",
      "_model_name": "HTMLModel",
      "_view_count": null,
      "_view_module": "@jupyter-widgets/controls",
      "_view_module_version": "1.5.0",
      "_view_name": "HTMLView",
      "description": "",
      "description_tooltip": null,
      "layout": "IPY_MODEL_c527c013b34249cfa3242cfbc76ad839",
      "placeholder": "​",
      "style": "IPY_MODEL_b7ae0d7e30ce4e05ac862f8e9c7f04b5",
      "value": " 50000/0 [00:22&lt;00:00, 3056.12 examples/s]"
     }
    },
    "261702bbea7b466284434a0d8ef80d74": {
     "model_module": "@jupyter-widgets/base",
     "model_name": "LayoutModel",
     "state": {
      "_model_module": "@jupyter-widgets/base",
      "_model_module_version": "1.2.0",
      "_model_name": "LayoutModel",
      "_view_count": null,
      "_view_module": "@jupyter-widgets/base",
      "_view_module_version": "1.2.0",
      "_view_name": "LayoutView",
      "align_content": null,
      "align_items": null,
      "align_self": null,
      "border": null,
      "bottom": null,
      "display": null,
      "flex": null,
      "flex_flow": null,
      "grid_area": null,
      "grid_auto_columns": null,
      "grid_auto_flow": null,
      "grid_auto_rows": null,
      "grid_column": null,
      "grid_gap": null,
      "grid_row": null,
      "grid_template_areas": null,
      "grid_template_columns": null,
      "grid_template_rows": null,
      "height": null,
      "justify_content": null,
      "justify_items": null,
      "left": null,
      "margin": null,
      "max_height": null,
      "max_width": null,
      "min_height": null,
      "min_width": null,
      "object_fit": null,
      "object_position": null,
      "order": null,
      "overflow": null,
      "overflow_x": null,
      "overflow_y": null,
      "padding": null,
      "right": null,
      "top": null,
      "visibility": null,
      "width": null
     }
    },
    "28804f8b21a94512985cf17cebc07d12": {
     "model_module": "@jupyter-widgets/controls",
     "model_name": "ProgressStyleModel",
     "state": {
      "_model_module": "@jupyter-widgets/controls",
      "_model_module_version": "1.5.0",
      "_model_name": "ProgressStyleModel",
      "_view_count": null,
      "_view_module": "@jupyter-widgets/base",
      "_view_module_version": "1.2.0",
      "_view_name": "StyleView",
      "bar_color": null,
      "description_width": "initial"
     }
    },
    "2d0e6acd86b84d09a8fa19117034c9f1": {
     "model_module": "@jupyter-widgets/controls",
     "model_name": "HTMLModel",
     "state": {
      "_dom_classes": [],
      "_model_module": "@jupyter-widgets/controls",
      "_model_module_version": "1.5.0",
      "_model_name": "HTMLModel",
      "_view_count": null,
      "_view_module": "@jupyter-widgets/controls",
      "_view_module_version": "1.5.0",
      "_view_name": "HTMLView",
      "description": "",
      "description_tooltip": null,
      "layout": "IPY_MODEL_dd4de6a5661d41bc86bf12d0d4ced0ac",
      "placeholder": "​",
      "style": "IPY_MODEL_6d6e522872ce4192bfeadae8c7c5c3e2",
      "value": " 25000/0 [00:16&lt;00:00, 2597.52 examples/s]"
     }
    },
    "2eed03c23b17402ca5622ca58f4d854b": {
     "model_module": "@jupyter-widgets/base",
     "model_name": "LayoutModel",
     "state": {
      "_model_module": "@jupyter-widgets/base",
      "_model_module_version": "1.2.0",
      "_model_name": "LayoutModel",
      "_view_count": null,
      "_view_module": "@jupyter-widgets/base",
      "_view_module_version": "1.2.0",
      "_view_name": "LayoutView",
      "align_content": null,
      "align_items": null,
      "align_self": null,
      "border": null,
      "bottom": null,
      "display": null,
      "flex": null,
      "flex_flow": null,
      "grid_area": null,
      "grid_auto_columns": null,
      "grid_auto_flow": null,
      "grid_auto_rows": null,
      "grid_column": null,
      "grid_gap": null,
      "grid_row": null,
      "grid_template_areas": null,
      "grid_template_columns": null,
      "grid_template_rows": null,
      "height": null,
      "justify_content": null,
      "justify_items": null,
      "left": null,
      "margin": null,
      "max_height": null,
      "max_width": null,
      "min_height": null,
      "min_width": null,
      "object_fit": null,
      "object_position": null,
      "order": null,
      "overflow": null,
      "overflow_x": null,
      "overflow_y": null,
      "padding": null,
      "right": null,
      "top": null,
      "visibility": null,
      "width": null
     }
    },
    "315a731768674d09987d9a2b8720fffd": {
     "model_module": "@jupyter-widgets/controls",
     "model_name": "HTMLModel",
     "state": {
      "_dom_classes": [],
      "_model_module": "@jupyter-widgets/controls",
      "_model_module_version": "1.5.0",
      "_model_name": "HTMLModel",
      "_view_count": null,
      "_view_module": "@jupyter-widgets/controls",
      "_view_module_version": "1.5.0",
      "_view_name": "HTMLView",
      "description": "",
      "description_tooltip": null,
      "layout": "IPY_MODEL_59b6c1615b7849a392e8351b3bb26564",
      "placeholder": "​",
      "style": "IPY_MODEL_12f18be4d84f419ea26383376745eef8",
      "value": " 4932/25000 [00:00&lt;00:00, 49318.99 examples/s]"
     }
    },
    "349d3d18ad114703a3e98008e257de4f": {
     "model_module": "@jupyter-widgets/controls",
     "model_name": "HTMLModel",
     "state": {
      "_dom_classes": [],
      "_model_module": "@jupyter-widgets/controls",
      "_model_module_version": "1.5.0",
      "_model_name": "HTMLModel",
      "_view_count": null,
      "_view_module": "@jupyter-widgets/controls",
      "_view_module_version": "1.5.0",
      "_view_name": "HTMLView",
      "description": "",
      "description_tooltip": null,
      "layout": "IPY_MODEL_a6c46807592f40b48a58f9b09a54f0b1",
      "placeholder": "​",
      "style": "IPY_MODEL_633df239d8634abca3dfc0e91027f648",
      "value": " 40497/50000 [00:00&lt;00:01, 6562.82 examples/s]"
     }
    },
    "34c369a295ec4063bc5360b4c34d11a6": {
     "model_module": "@jupyter-widgets/controls",
     "model_name": "ProgressStyleModel",
     "state": {
      "_model_module": "@jupyter-widgets/controls",
      "_model_module_version": "1.5.0",
      "_model_name": "ProgressStyleModel",
      "_view_count": null,
      "_view_module": "@jupyter-widgets/base",
      "_view_module_version": "1.2.0",
      "_view_name": "StyleView",
      "bar_color": null,
      "description_width": "initial"
     }
    },
    "360e5dd8d8bf45cfa2b56301cc921b3e": {
     "model_module": "@jupyter-widgets/base",
     "model_name": "LayoutModel",
     "state": {
      "_model_module": "@jupyter-widgets/base",
      "_model_module_version": "1.2.0",
      "_model_name": "LayoutModel",
      "_view_count": null,
      "_view_module": "@jupyter-widgets/base",
      "_view_module_version": "1.2.0",
      "_view_name": "LayoutView",
      "align_content": null,
      "align_items": null,
      "align_self": null,
      "border": null,
      "bottom": null,
      "display": null,
      "flex": null,
      "flex_flow": null,
      "grid_area": null,
      "grid_auto_columns": null,
      "grid_auto_flow": null,
      "grid_auto_rows": null,
      "grid_column": null,
      "grid_gap": null,
      "grid_row": null,
      "grid_template_areas": null,
      "grid_template_columns": null,
      "grid_template_rows": null,
      "height": null,
      "justify_content": null,
      "justify_items": null,
      "left": null,
      "margin": null,
      "max_height": null,
      "max_width": null,
      "min_height": null,
      "min_width": null,
      "object_fit": null,
      "object_position": null,
      "order": null,
      "overflow": null,
      "overflow_x": null,
      "overflow_y": null,
      "padding": null,
      "right": null,
      "top": null,
      "visibility": null,
      "width": null
     }
    },
    "38d93b5cd6dc484b85483ccb1f8a2e83": {
     "model_module": "@jupyter-widgets/controls",
     "model_name": "FloatProgressModel",
     "state": {
      "_dom_classes": [],
      "_model_module": "@jupyter-widgets/controls",
      "_model_module_version": "1.5.0",
      "_model_name": "FloatProgressModel",
      "_view_count": null,
      "_view_module": "@jupyter-widgets/controls",
      "_view_module_version": "1.5.0",
      "_view_name": "ProgressView",
      "bar_style": "danger",
      "description": " 20%",
      "description_tooltip": null,
      "layout": "IPY_MODEL_d28348dc188b419fb1574374cdb34114",
      "max": 25000,
      "min": 0,
      "orientation": "horizontal",
      "style": "IPY_MODEL_64c09c84173f4e88a25729bf82876cee",
      "value": 4932
     }
    },
    "39c8ebecf0e54733b5e92184966bd842": {
     "model_module": "@jupyter-widgets/controls",
     "model_name": "DescriptionStyleModel",
     "state": {
      "_model_module": "@jupyter-widgets/controls",
      "_model_module_version": "1.5.0",
      "_model_name": "DescriptionStyleModel",
      "_view_count": null,
      "_view_module": "@jupyter-widgets/base",
      "_view_module_version": "1.2.0",
      "_view_name": "StyleView",
      "description_width": ""
     }
    },
    "3f95a63bb96a4fd58c83dabe6b473e80": {
     "model_module": "@jupyter-widgets/controls",
     "model_name": "ProgressStyleModel",
     "state": {
      "_model_module": "@jupyter-widgets/controls",
      "_model_module_version": "1.5.0",
      "_model_name": "ProgressStyleModel",
      "_view_count": null,
      "_view_module": "@jupyter-widgets/base",
      "_view_module_version": "1.2.0",
      "_view_name": "StyleView",
      "bar_color": null,
      "description_width": "initial"
     }
    },
    "4084775b626f4632af4647f93cd6b165": {
     "model_module": "@jupyter-widgets/base",
     "model_name": "LayoutModel",
     "state": {
      "_model_module": "@jupyter-widgets/base",
      "_model_module_version": "1.2.0",
      "_model_name": "LayoutModel",
      "_view_count": null,
      "_view_module": "@jupyter-widgets/base",
      "_view_module_version": "1.2.0",
      "_view_name": "LayoutView",
      "align_content": null,
      "align_items": null,
      "align_self": null,
      "border": null,
      "bottom": null,
      "display": null,
      "flex": null,
      "flex_flow": null,
      "grid_area": null,
      "grid_auto_columns": null,
      "grid_auto_flow": null,
      "grid_auto_rows": null,
      "grid_column": null,
      "grid_gap": null,
      "grid_row": null,
      "grid_template_areas": null,
      "grid_template_columns": null,
      "grid_template_rows": null,
      "height": null,
      "justify_content": null,
      "justify_items": null,
      "left": null,
      "margin": null,
      "max_height": null,
      "max_width": null,
      "min_height": null,
      "min_width": null,
      "object_fit": null,
      "object_position": null,
      "order": null,
      "overflow": null,
      "overflow_x": null,
      "overflow_y": null,
      "padding": null,
      "right": null,
      "top": null,
      "visibility": null,
      "width": null
     }
    },
    "48e30bd1481142a9bcee7c37f39b5a1b": {
     "model_module": "@jupyter-widgets/controls",
     "model_name": "DescriptionStyleModel",
     "state": {
      "_model_module": "@jupyter-widgets/controls",
      "_model_module_version": "1.5.0",
      "_model_name": "DescriptionStyleModel",
      "_view_count": null,
      "_view_module": "@jupyter-widgets/base",
      "_view_module_version": "1.2.0",
      "_view_name": "StyleView",
      "description_width": ""
     }
    },
    "49e518af7589463494ef436c404be6b3": {
     "model_module": "@jupyter-widgets/controls",
     "model_name": "HBoxModel",
     "state": {
      "_dom_classes": [],
      "_model_module": "@jupyter-widgets/controls",
      "_model_module_version": "1.5.0",
      "_model_name": "HBoxModel",
      "_view_count": null,
      "_view_module": "@jupyter-widgets/controls",
      "_view_module_version": "1.5.0",
      "_view_name": "HBoxView",
      "box_style": "",
      "children": [
       "IPY_MODEL_6fbb4baa5a724cfb8605e4372dbfbdc5",
       "IPY_MODEL_2d0e6acd86b84d09a8fa19117034c9f1"
      ],
      "layout": "IPY_MODEL_900e8aa488e0487582a6261f03ee1be6"
     }
    },
    "4ea8b5c25b7146518caf0e9d6abf49b6": {
     "model_module": "@jupyter-widgets/controls",
     "model_name": "FloatProgressModel",
     "state": {
      "_dom_classes": [],
      "_model_module": "@jupyter-widgets/controls",
      "_model_module_version": "1.5.0",
      "_model_name": "FloatProgressModel",
      "_view_count": null,
      "_view_module": "@jupyter-widgets/controls",
      "_view_module_version": "1.5.0",
      "_view_name": "ProgressView",
      "bar_style": "info",
      "description": "",
      "description_tooltip": null,
      "layout": "IPY_MODEL_e863748a55fb442eb248799adc7a8b1e",
      "max": 1,
      "min": 0,
      "orientation": "horizontal",
      "style": "IPY_MODEL_a511523c30cb46b19e0d638ec1b47bc7",
      "value": 1
     }
    },
    "51a30c941cb946cf83ea4278c96641e1": {
     "model_module": "@jupyter-widgets/controls",
     "model_name": "HTMLModel",
     "state": {
      "_dom_classes": [],
      "_model_module": "@jupyter-widgets/controls",
      "_model_module_version": "1.5.0",
      "_model_name": "HTMLModel",
      "_view_count": null,
      "_view_module": "@jupyter-widgets/controls",
      "_view_module_version": "1.5.0",
      "_view_name": "HTMLView",
      "description": "",
      "description_tooltip": null,
      "layout": "IPY_MODEL_261702bbea7b466284434a0d8ef80d74",
      "placeholder": "​",
      "style": "IPY_MODEL_a7d5b3ea8b2d4a668349f4ab8248547e",
      "value": " 80/80 [00:13&lt;00:00,  6.13 MiB/s]"
     }
    },
    "59b6c1615b7849a392e8351b3bb26564": {
     "model_module": "@jupyter-widgets/base",
     "model_name": "LayoutModel",
     "state": {
      "_model_module": "@jupyter-widgets/base",
      "_model_module_version": "1.2.0",
      "_model_name": "LayoutModel",
      "_view_count": null,
      "_view_module": "@jupyter-widgets/base",
      "_view_module_version": "1.2.0",
      "_view_name": "LayoutView",
      "align_content": null,
      "align_items": null,
      "align_self": null,
      "border": null,
      "bottom": null,
      "display": null,
      "flex": null,
      "flex_flow": null,
      "grid_area": null,
      "grid_auto_columns": null,
      "grid_auto_flow": null,
      "grid_auto_rows": null,
      "grid_column": null,
      "grid_gap": null,
      "grid_row": null,
      "grid_template_areas": null,
      "grid_template_columns": null,
      "grid_template_rows": null,
      "height": null,
      "justify_content": null,
      "justify_items": null,
      "left": null,
      "margin": null,
      "max_height": null,
      "max_width": null,
      "min_height": null,
      "min_width": null,
      "object_fit": null,
      "object_position": null,
      "order": null,
      "overflow": null,
      "overflow_x": null,
      "overflow_y": null,
      "padding": null,
      "right": null,
      "top": null,
      "visibility": null,
      "width": null
     }
    },
    "5af6b0c24fd64d6bbcdc4984597803ba": {
     "model_module": "@jupyter-widgets/controls",
     "model_name": "FloatProgressModel",
     "state": {
      "_dom_classes": [],
      "_model_module": "@jupyter-widgets/controls",
      "_model_module_version": "1.5.0",
      "_model_name": "FloatProgressModel",
      "_view_count": null,
      "_view_module": "@jupyter-widgets/controls",
      "_view_module_version": "1.5.0",
      "_view_name": "ProgressView",
      "bar_style": "success",
      "description": "Dl Size...: 100%",
      "description_tooltip": null,
      "layout": "IPY_MODEL_6db2b443964d4987859ba56d5bd2f688",
      "max": 1,
      "min": 0,
      "orientation": "horizontal",
      "style": "IPY_MODEL_0705614d18174e4cbd296dbaa76ff69f",
      "value": 1
     }
    },
    "633df239d8634abca3dfc0e91027f648": {
     "model_module": "@jupyter-widgets/controls",
     "model_name": "DescriptionStyleModel",
     "state": {
      "_model_module": "@jupyter-widgets/controls",
      "_model_module_version": "1.5.0",
      "_model_name": "DescriptionStyleModel",
      "_view_count": null,
      "_view_module": "@jupyter-widgets/base",
      "_view_module_version": "1.2.0",
      "_view_name": "StyleView",
      "description_width": ""
     }
    },
    "64c09c84173f4e88a25729bf82876cee": {
     "model_module": "@jupyter-widgets/controls",
     "model_name": "ProgressStyleModel",
     "state": {
      "_model_module": "@jupyter-widgets/controls",
      "_model_module_version": "1.5.0",
      "_model_name": "ProgressStyleModel",
      "_view_count": null,
      "_view_module": "@jupyter-widgets/base",
      "_view_module_version": "1.2.0",
      "_view_name": "StyleView",
      "bar_color": null,
      "description_width": "initial"
     }
    },
    "6a0f20d54445433f9d12fcf4d00481e9": {
     "model_module": "@jupyter-widgets/controls",
     "model_name": "ProgressStyleModel",
     "state": {
      "_model_module": "@jupyter-widgets/controls",
      "_model_module_version": "1.5.0",
      "_model_name": "ProgressStyleModel",
      "_view_count": null,
      "_view_module": "@jupyter-widgets/base",
      "_view_module_version": "1.2.0",
      "_view_name": "StyleView",
      "bar_color": null,
      "description_width": "initial"
     }
    },
    "6d6e522872ce4192bfeadae8c7c5c3e2": {
     "model_module": "@jupyter-widgets/controls",
     "model_name": "DescriptionStyleModel",
     "state": {
      "_model_module": "@jupyter-widgets/controls",
      "_model_module_version": "1.5.0",
      "_model_name": "DescriptionStyleModel",
      "_view_count": null,
      "_view_module": "@jupyter-widgets/base",
      "_view_module_version": "1.2.0",
      "_view_name": "StyleView",
      "description_width": ""
     }
    },
    "6db2b443964d4987859ba56d5bd2f688": {
     "model_module": "@jupyter-widgets/base",
     "model_name": "LayoutModel",
     "state": {
      "_model_module": "@jupyter-widgets/base",
      "_model_module_version": "1.2.0",
      "_model_name": "LayoutModel",
      "_view_count": null,
      "_view_module": "@jupyter-widgets/base",
      "_view_module_version": "1.2.0",
      "_view_name": "LayoutView",
      "align_content": null,
      "align_items": null,
      "align_self": null,
      "border": null,
      "bottom": null,
      "display": null,
      "flex": null,
      "flex_flow": null,
      "grid_area": null,
      "grid_auto_columns": null,
      "grid_auto_flow": null,
      "grid_auto_rows": null,
      "grid_column": null,
      "grid_gap": null,
      "grid_row": null,
      "grid_template_areas": null,
      "grid_template_columns": null,
      "grid_template_rows": null,
      "height": null,
      "justify_content": null,
      "justify_items": null,
      "left": null,
      "margin": null,
      "max_height": null,
      "max_width": null,
      "min_height": null,
      "min_width": null,
      "object_fit": null,
      "object_position": null,
      "order": null,
      "overflow": null,
      "overflow_x": null,
      "overflow_y": null,
      "padding": null,
      "right": null,
      "top": null,
      "visibility": null,
      "width": null
     }
    },
    "6fbb4baa5a724cfb8605e4372dbfbdc5": {
     "model_module": "@jupyter-widgets/controls",
     "model_name": "FloatProgressModel",
     "state": {
      "_dom_classes": [],
      "_model_module": "@jupyter-widgets/controls",
      "_model_module_version": "1.5.0",
      "_model_name": "FloatProgressModel",
      "_view_count": null,
      "_view_module": "@jupyter-widgets/controls",
      "_view_module_version": "1.5.0",
      "_view_name": "ProgressView",
      "bar_style": "info",
      "description": "",
      "description_tooltip": null,
      "layout": "IPY_MODEL_232c232549634898b26d91b010fdb3fa",
      "max": 1,
      "min": 0,
      "orientation": "horizontal",
      "style": "IPY_MODEL_6a0f20d54445433f9d12fcf4d00481e9",
      "value": 1
     }
    },
    "70d25b17a64a4e13a378b3085e70ba94": {
     "model_module": "@jupyter-widgets/base",
     "model_name": "LayoutModel",
     "state": {
      "_model_module": "@jupyter-widgets/base",
      "_model_module_version": "1.2.0",
      "_model_name": "LayoutModel",
      "_view_count": null,
      "_view_module": "@jupyter-widgets/base",
      "_view_module_version": "1.2.0",
      "_view_name": "LayoutView",
      "align_content": null,
      "align_items": null,
      "align_self": null,
      "border": null,
      "bottom": null,
      "display": null,
      "flex": null,
      "flex_flow": null,
      "grid_area": null,
      "grid_auto_columns": null,
      "grid_auto_flow": null,
      "grid_auto_rows": null,
      "grid_column": null,
      "grid_gap": null,
      "grid_row": null,
      "grid_template_areas": null,
      "grid_template_columns": null,
      "grid_template_rows": null,
      "height": null,
      "justify_content": null,
      "justify_items": null,
      "left": null,
      "margin": null,
      "max_height": null,
      "max_width": null,
      "min_height": null,
      "min_width": null,
      "object_fit": null,
      "object_position": null,
      "order": null,
      "overflow": null,
      "overflow_x": null,
      "overflow_y": null,
      "padding": null,
      "right": null,
      "top": null,
      "visibility": null,
      "width": null
     }
    },
    "724ff81bc0d045f3beaa54c45f985ea3": {
     "model_module": "@jupyter-widgets/base",
     "model_name": "LayoutModel",
     "state": {
      "_model_module": "@jupyter-widgets/base",
      "_model_module_version": "1.2.0",
      "_model_name": "LayoutModel",
      "_view_count": null,
      "_view_module": "@jupyter-widgets/base",
      "_view_module_version": "1.2.0",
      "_view_name": "LayoutView",
      "align_content": null,
      "align_items": null,
      "align_self": null,
      "border": null,
      "bottom": null,
      "display": null,
      "flex": null,
      "flex_flow": null,
      "grid_area": null,
      "grid_auto_columns": null,
      "grid_auto_flow": null,
      "grid_auto_rows": null,
      "grid_column": null,
      "grid_gap": null,
      "grid_row": null,
      "grid_template_areas": null,
      "grid_template_columns": null,
      "grid_template_rows": null,
      "height": null,
      "justify_content": null,
      "justify_items": null,
      "left": null,
      "margin": null,
      "max_height": null,
      "max_width": null,
      "min_height": null,
      "min_width": null,
      "object_fit": null,
      "object_position": null,
      "order": null,
      "overflow": null,
      "overflow_x": null,
      "overflow_y": null,
      "padding": null,
      "right": null,
      "top": null,
      "visibility": null,
      "width": null
     }
    },
    "73af463b8c8c422aaf0dc914b6e94684": {
     "model_module": "@jupyter-widgets/controls",
     "model_name": "HBoxModel",
     "state": {
      "_dom_classes": [],
      "_model_module": "@jupyter-widgets/controls",
      "_model_module_version": "1.5.0",
      "_model_name": "HBoxModel",
      "_view_count": null,
      "_view_module": "@jupyter-widgets/controls",
      "_view_module_version": "1.5.0",
      "_view_name": "HBoxView",
      "box_style": "",
      "children": [
       "IPY_MODEL_38d93b5cd6dc484b85483ccb1f8a2e83",
       "IPY_MODEL_315a731768674d09987d9a2b8720fffd"
      ],
      "layout": "IPY_MODEL_1fd0ef0e2e9e4a91b2ebf4076709cbb5"
     }
    },
    "741653127ebf445eae07ab5b155bafba": {
     "model_module": "@jupyter-widgets/base",
     "model_name": "LayoutModel",
     "state": {
      "_model_module": "@jupyter-widgets/base",
      "_model_module_version": "1.2.0",
      "_model_name": "LayoutModel",
      "_view_count": null,
      "_view_module": "@jupyter-widgets/base",
      "_view_module_version": "1.2.0",
      "_view_name": "LayoutView",
      "align_content": null,
      "align_items": null,
      "align_self": null,
      "border": null,
      "bottom": null,
      "display": null,
      "flex": null,
      "flex_flow": null,
      "grid_area": null,
      "grid_auto_columns": null,
      "grid_auto_flow": null,
      "grid_auto_rows": null,
      "grid_column": null,
      "grid_gap": null,
      "grid_row": null,
      "grid_template_areas": null,
      "grid_template_columns": null,
      "grid_template_rows": null,
      "height": null,
      "justify_content": null,
      "justify_items": null,
      "left": null,
      "margin": null,
      "max_height": null,
      "max_width": null,
      "min_height": null,
      "min_width": null,
      "object_fit": null,
      "object_position": null,
      "order": null,
      "overflow": null,
      "overflow_x": null,
      "overflow_y": null,
      "padding": null,
      "right": null,
      "top": null,
      "visibility": null,
      "width": null
     }
    },
    "8c16c53b3e134f51b4eb452862594cb6": {
     "model_module": "@jupyter-widgets/base",
     "model_name": "LayoutModel",
     "state": {
      "_model_module": "@jupyter-widgets/base",
      "_model_module_version": "1.2.0",
      "_model_name": "LayoutModel",
      "_view_count": null,
      "_view_module": "@jupyter-widgets/base",
      "_view_module_version": "1.2.0",
      "_view_name": "LayoutView",
      "align_content": null,
      "align_items": null,
      "align_self": null,
      "border": null,
      "bottom": null,
      "display": null,
      "flex": null,
      "flex_flow": null,
      "grid_area": null,
      "grid_auto_columns": null,
      "grid_auto_flow": null,
      "grid_auto_rows": null,
      "grid_column": null,
      "grid_gap": null,
      "grid_row": null,
      "grid_template_areas": null,
      "grid_template_columns": null,
      "grid_template_rows": null,
      "height": null,
      "justify_content": null,
      "justify_items": null,
      "left": null,
      "margin": null,
      "max_height": null,
      "max_width": null,
      "min_height": null,
      "min_width": null,
      "object_fit": null,
      "object_position": null,
      "order": null,
      "overflow": null,
      "overflow_x": null,
      "overflow_y": null,
      "padding": null,
      "right": null,
      "top": null,
      "visibility": null,
      "width": null
     }
    },
    "8c50e650cba4491abdffcda2c1e56719": {
     "model_module": "@jupyter-widgets/controls",
     "model_name": "FloatProgressModel",
     "state": {
      "_dom_classes": [],
      "_model_module": "@jupyter-widgets/controls",
      "_model_module_version": "1.5.0",
      "_model_name": "FloatProgressModel",
      "_view_count": null,
      "_view_module": "@jupyter-widgets/controls",
      "_view_module_version": "1.5.0",
      "_view_name": "ProgressView",
      "bar_style": "success",
      "description": "Dl Completed...: 100%",
      "description_tooltip": null,
      "layout": "IPY_MODEL_f8ccdb87659f402aaada7ae74c2e2e57",
      "max": 1,
      "min": 0,
      "orientation": "horizontal",
      "style": "IPY_MODEL_3f95a63bb96a4fd58c83dabe6b473e80",
      "value": 1
     }
    },
    "8dc2f402f7d24b55abdb47637cbd48c9": {
     "model_module": "@jupyter-widgets/controls",
     "model_name": "HBoxModel",
     "state": {
      "_dom_classes": [],
      "_model_module": "@jupyter-widgets/controls",
      "_model_module_version": "1.5.0",
      "_model_name": "HBoxModel",
      "_view_count": null,
      "_view_module": "@jupyter-widgets/controls",
      "_view_module_version": "1.5.0",
      "_view_name": "HBoxView",
      "box_style": "",
      "children": [
       "IPY_MODEL_4ea8b5c25b7146518caf0e9d6abf49b6",
       "IPY_MODEL_9c35a58ad1cd4c658f1aa207b1d78ee7"
      ],
      "layout": "IPY_MODEL_dbfeed87240f48dcb79fd81d3c331262"
     }
    },
    "900e8aa488e0487582a6261f03ee1be6": {
     "model_module": "@jupyter-widgets/base",
     "model_name": "LayoutModel",
     "state": {
      "_model_module": "@jupyter-widgets/base",
      "_model_module_version": "1.2.0",
      "_model_name": "LayoutModel",
      "_view_count": null,
      "_view_module": "@jupyter-widgets/base",
      "_view_module_version": "1.2.0",
      "_view_name": "LayoutView",
      "align_content": null,
      "align_items": null,
      "align_self": null,
      "border": null,
      "bottom": null,
      "display": null,
      "flex": null,
      "flex_flow": null,
      "grid_area": null,
      "grid_auto_columns": null,
      "grid_auto_flow": null,
      "grid_auto_rows": null,
      "grid_column": null,
      "grid_gap": null,
      "grid_row": null,
      "grid_template_areas": null,
      "grid_template_columns": null,
      "grid_template_rows": null,
      "height": null,
      "justify_content": null,
      "justify_items": null,
      "left": null,
      "margin": null,
      "max_height": null,
      "max_width": null,
      "min_height": null,
      "min_width": null,
      "object_fit": null,
      "object_position": null,
      "order": null,
      "overflow": null,
      "overflow_x": null,
      "overflow_y": null,
      "padding": null,
      "right": null,
      "top": null,
      "visibility": null,
      "width": null
     }
    },
    "9c35a58ad1cd4c658f1aa207b1d78ee7": {
     "model_module": "@jupyter-widgets/controls",
     "model_name": "HTMLModel",
     "state": {
      "_dom_classes": [],
      "_model_module": "@jupyter-widgets/controls",
      "_model_module_version": "1.5.0",
      "_model_name": "HTMLModel",
      "_view_count": null,
      "_view_module": "@jupyter-widgets/controls",
      "_view_module_version": "1.5.0",
      "_view_name": "HTMLView",
      "description": "",
      "description_tooltip": null,
      "layout": "IPY_MODEL_cead6b391e634f20b88a127c92cea716",
      "placeholder": "​",
      "style": "IPY_MODEL_e0dc0e775a094cbeaca41b8d51bfeb24",
      "value": " 25000/0 [00:16&lt;00:00, 2880.19 examples/s]"
     }
    },
    "9d024db4e8ec4918949c85feb33cce7c": {
     "model_module": "@jupyter-widgets/controls",
     "model_name": "HTMLModel",
     "state": {
      "_dom_classes": [],
      "_model_module": "@jupyter-widgets/controls",
      "_model_module_version": "1.5.0",
      "_model_name": "HTMLModel",
      "_view_count": null,
      "_view_module": "@jupyter-widgets/controls",
      "_view_module_version": "1.5.0",
      "_view_name": "HTMLView",
      "description": "",
      "description_tooltip": null,
      "layout": "IPY_MODEL_724ff81bc0d045f3beaa54c45f985ea3",
      "placeholder": "​",
      "style": "IPY_MODEL_48e30bd1481142a9bcee7c37f39b5a1b",
      "value": " 5825/25000 [00:00&lt;00:00, 58249.22 examples/s]"
     }
    },
    "a511523c30cb46b19e0d638ec1b47bc7": {
     "model_module": "@jupyter-widgets/controls",
     "model_name": "ProgressStyleModel",
     "state": {
      "_model_module": "@jupyter-widgets/controls",
      "_model_module_version": "1.5.0",
      "_model_name": "ProgressStyleModel",
      "_view_count": null,
      "_view_module": "@jupyter-widgets/base",
      "_view_module_version": "1.2.0",
      "_view_name": "StyleView",
      "bar_color": null,
      "description_width": "initial"
     }
    },
    "a6c46807592f40b48a58f9b09a54f0b1": {
     "model_module": "@jupyter-widgets/base",
     "model_name": "LayoutModel",
     "state": {
      "_model_module": "@jupyter-widgets/base",
      "_model_module_version": "1.2.0",
      "_model_name": "LayoutModel",
      "_view_count": null,
      "_view_module": "@jupyter-widgets/base",
      "_view_module_version": "1.2.0",
      "_view_name": "LayoutView",
      "align_content": null,
      "align_items": null,
      "align_self": null,
      "border": null,
      "bottom": null,
      "display": null,
      "flex": null,
      "flex_flow": null,
      "grid_area": null,
      "grid_auto_columns": null,
      "grid_auto_flow": null,
      "grid_auto_rows": null,
      "grid_column": null,
      "grid_gap": null,
      "grid_row": null,
      "grid_template_areas": null,
      "grid_template_columns": null,
      "grid_template_rows": null,
      "height": null,
      "justify_content": null,
      "justify_items": null,
      "left": null,
      "margin": null,
      "max_height": null,
      "max_width": null,
      "min_height": null,
      "min_width": null,
      "object_fit": null,
      "object_position": null,
      "order": null,
      "overflow": null,
      "overflow_x": null,
      "overflow_y": null,
      "padding": null,
      "right": null,
      "top": null,
      "visibility": null,
      "width": null
     }
    },
    "a7d5b3ea8b2d4a668349f4ab8248547e": {
     "model_module": "@jupyter-widgets/controls",
     "model_name": "DescriptionStyleModel",
     "state": {
      "_model_module": "@jupyter-widgets/controls",
      "_model_module_version": "1.5.0",
      "_model_name": "DescriptionStyleModel",
      "_view_count": null,
      "_view_module": "@jupyter-widgets/base",
      "_view_module_version": "1.2.0",
      "_view_name": "StyleView",
      "description_width": ""
     }
    },
    "acb23ce411a048daa7944dba07669d4d": {
     "model_module": "@jupyter-widgets/controls",
     "model_name": "HBoxModel",
     "state": {
      "_dom_classes": [],
      "_model_module": "@jupyter-widgets/controls",
      "_model_module_version": "1.5.0",
      "_model_name": "HBoxModel",
      "_view_count": null,
      "_view_module": "@jupyter-widgets/controls",
      "_view_module_version": "1.5.0",
      "_view_name": "HBoxView",
      "box_style": "",
      "children": [
       "IPY_MODEL_8c50e650cba4491abdffcda2c1e56719",
       "IPY_MODEL_0b1748b7dde641bfb5b0fd02c1c43c3c"
      ],
      "layout": "IPY_MODEL_c66d26eb911645c4bb8fffb9e9ebbf46"
     }
    },
    "ad2b836c0f814cbfaf48ad3d306a241a": {
     "model_module": "@jupyter-widgets/controls",
     "model_name": "FloatProgressModel",
     "state": {
      "_dom_classes": [],
      "_model_module": "@jupyter-widgets/controls",
      "_model_module_version": "1.5.0",
      "_model_name": "FloatProgressModel",
      "_view_count": null,
      "_view_module": "@jupyter-widgets/controls",
      "_view_module_version": "1.5.0",
      "_view_name": "ProgressView",
      "bar_style": "danger",
      "description": " 23%",
      "description_tooltip": null,
      "layout": "IPY_MODEL_1cfe032c830b4f568780a846704ad807",
      "max": 25000,
      "min": 0,
      "orientation": "horizontal",
      "style": "IPY_MODEL_34c369a295ec4063bc5360b4c34d11a6",
      "value": 5825
     }
    },
    "b273ceffcaa44423a3f3dc0e10ea92b4": {
     "model_module": "@jupyter-widgets/controls",
     "model_name": "FloatProgressModel",
     "state": {
      "_dom_classes": [],
      "_model_module": "@jupyter-widgets/controls",
      "_model_module_version": "1.5.0",
      "_model_name": "FloatProgressModel",
      "_view_count": null,
      "_view_module": "@jupyter-widgets/controls",
      "_view_module_version": "1.5.0",
      "_view_name": "ProgressView",
      "bar_style": "info",
      "description": "",
      "description_tooltip": null,
      "layout": "IPY_MODEL_360e5dd8d8bf45cfa2b56301cc921b3e",
      "max": 1,
      "min": 0,
      "orientation": "horizontal",
      "style": "IPY_MODEL_28804f8b21a94512985cf17cebc07d12",
      "value": 1
     }
    },
    "b27e466f0e444954892dcf30891407b7": {
     "model_module": "@jupyter-widgets/base",
     "model_name": "LayoutModel",
     "state": {
      "_model_module": "@jupyter-widgets/base",
      "_model_module_version": "1.2.0",
      "_model_name": "LayoutModel",
      "_view_count": null,
      "_view_module": "@jupyter-widgets/base",
      "_view_module_version": "1.2.0",
      "_view_name": "LayoutView",
      "align_content": null,
      "align_items": null,
      "align_self": null,
      "border": null,
      "bottom": null,
      "display": null,
      "flex": null,
      "flex_flow": null,
      "grid_area": null,
      "grid_auto_columns": null,
      "grid_auto_flow": null,
      "grid_auto_rows": null,
      "grid_column": null,
      "grid_gap": null,
      "grid_row": null,
      "grid_template_areas": null,
      "grid_template_columns": null,
      "grid_template_rows": null,
      "height": null,
      "justify_content": null,
      "justify_items": null,
      "left": null,
      "margin": null,
      "max_height": null,
      "max_width": null,
      "min_height": null,
      "min_width": null,
      "object_fit": null,
      "object_position": null,
      "order": null,
      "overflow": null,
      "overflow_x": null,
      "overflow_y": null,
      "padding": null,
      "right": null,
      "top": null,
      "visibility": null,
      "width": null
     }
    },
    "b40220aa7f4349b38296647ea4d33082": {
     "model_module": "@jupyter-widgets/controls",
     "model_name": "ProgressStyleModel",
     "state": {
      "_model_module": "@jupyter-widgets/controls",
      "_model_module_version": "1.5.0",
      "_model_name": "ProgressStyleModel",
      "_view_count": null,
      "_view_module": "@jupyter-widgets/base",
      "_view_module_version": "1.2.0",
      "_view_name": "StyleView",
      "bar_color": null,
      "description_width": "initial"
     }
    },
    "b7ae0d7e30ce4e05ac862f8e9c7f04b5": {
     "model_module": "@jupyter-widgets/controls",
     "model_name": "DescriptionStyleModel",
     "state": {
      "_model_module": "@jupyter-widgets/controls",
      "_model_module_version": "1.5.0",
      "_model_name": "DescriptionStyleModel",
      "_view_count": null,
      "_view_module": "@jupyter-widgets/base",
      "_view_module_version": "1.2.0",
      "_view_name": "StyleView",
      "description_width": ""
     }
    },
    "bb6e93de3cff49fc8f031455cb61ef69": {
     "model_module": "@jupyter-widgets/controls",
     "model_name": "FloatProgressModel",
     "state": {
      "_dom_classes": [],
      "_model_module": "@jupyter-widgets/controls",
      "_model_module_version": "1.5.0",
      "_model_name": "FloatProgressModel",
      "_view_count": null,
      "_view_module": "@jupyter-widgets/controls",
      "_view_module_version": "1.5.0",
      "_view_name": "ProgressView",
      "bar_style": "danger",
      "description": " 81%",
      "description_tooltip": null,
      "layout": "IPY_MODEL_2eed03c23b17402ca5622ca58f4d854b",
      "max": 50000,
      "min": 0,
      "orientation": "horizontal",
      "style": "IPY_MODEL_b40220aa7f4349b38296647ea4d33082",
      "value": 40497
     }
    },
    "beb2f8e8f9de4cafb0c27dfb3477160e": {
     "model_module": "@jupyter-widgets/controls",
     "model_name": "HBoxModel",
     "state": {
      "_dom_classes": [],
      "_model_module": "@jupyter-widgets/controls",
      "_model_module_version": "1.5.0",
      "_model_name": "HBoxModel",
      "_view_count": null,
      "_view_module": "@jupyter-widgets/controls",
      "_view_module_version": "1.5.0",
      "_view_name": "HBoxView",
      "box_style": "",
      "children": [
       "IPY_MODEL_b273ceffcaa44423a3f3dc0e10ea92b4",
       "IPY_MODEL_2519227f1a3a4e59bc22b9e8fb8d39c5"
      ],
      "layout": "IPY_MODEL_70d25b17a64a4e13a378b3085e70ba94"
     }
    },
    "c527c013b34249cfa3242cfbc76ad839": {
     "model_module": "@jupyter-widgets/base",
     "model_name": "LayoutModel",
     "state": {
      "_model_module": "@jupyter-widgets/base",
      "_model_module_version": "1.2.0",
      "_model_name": "LayoutModel",
      "_view_count": null,
      "_view_module": "@jupyter-widgets/base",
      "_view_module_version": "1.2.0",
      "_view_name": "LayoutView",
      "align_content": null,
      "align_items": null,
      "align_self": null,
      "border": null,
      "bottom": null,
      "display": null,
      "flex": null,
      "flex_flow": null,
      "grid_area": null,
      "grid_auto_columns": null,
      "grid_auto_flow": null,
      "grid_auto_rows": null,
      "grid_column": null,
      "grid_gap": null,
      "grid_row": null,
      "grid_template_areas": null,
      "grid_template_columns": null,
      "grid_template_rows": null,
      "height": null,
      "justify_content": null,
      "justify_items": null,
      "left": null,
      "margin": null,
      "max_height": null,
      "max_width": null,
      "min_height": null,
      "min_width": null,
      "object_fit": null,
      "object_position": null,
      "order": null,
      "overflow": null,
      "overflow_x": null,
      "overflow_y": null,
      "padding": null,
      "right": null,
      "top": null,
      "visibility": null,
      "width": null
     }
    },
    "c66d26eb911645c4bb8fffb9e9ebbf46": {
     "model_module": "@jupyter-widgets/base",
     "model_name": "LayoutModel",
     "state": {
      "_model_module": "@jupyter-widgets/base",
      "_model_module_version": "1.2.0",
      "_model_name": "LayoutModel",
      "_view_count": null,
      "_view_module": "@jupyter-widgets/base",
      "_view_module_version": "1.2.0",
      "_view_name": "LayoutView",
      "align_content": null,
      "align_items": null,
      "align_self": null,
      "border": null,
      "bottom": null,
      "display": null,
      "flex": null,
      "flex_flow": null,
      "grid_area": null,
      "grid_auto_columns": null,
      "grid_auto_flow": null,
      "grid_auto_rows": null,
      "grid_column": null,
      "grid_gap": null,
      "grid_row": null,
      "grid_template_areas": null,
      "grid_template_columns": null,
      "grid_template_rows": null,
      "height": null,
      "justify_content": null,
      "justify_items": null,
      "left": null,
      "margin": null,
      "max_height": null,
      "max_width": null,
      "min_height": null,
      "min_width": null,
      "object_fit": null,
      "object_position": null,
      "order": null,
      "overflow": null,
      "overflow_x": null,
      "overflow_y": null,
      "padding": null,
      "right": null,
      "top": null,
      "visibility": null,
      "width": null
     }
    },
    "cbab8b2dd51e44b6a998ee20f2e52a1f": {
     "model_module": "@jupyter-widgets/controls",
     "model_name": "HBoxModel",
     "state": {
      "_dom_classes": [],
      "_model_module": "@jupyter-widgets/controls",
      "_model_module_version": "1.5.0",
      "_model_name": "HBoxModel",
      "_view_count": null,
      "_view_module": "@jupyter-widgets/controls",
      "_view_module_version": "1.5.0",
      "_view_name": "HBoxView",
      "box_style": "",
      "children": [
       "IPY_MODEL_ad2b836c0f814cbfaf48ad3d306a241a",
       "IPY_MODEL_9d024db4e8ec4918949c85feb33cce7c"
      ],
      "layout": "IPY_MODEL_741653127ebf445eae07ab5b155bafba"
     }
    },
    "cd44fc97dc664487a3b467429e9f9b42": {
     "model_module": "@jupyter-widgets/controls",
     "model_name": "HBoxModel",
     "state": {
      "_dom_classes": [],
      "_model_module": "@jupyter-widgets/controls",
      "_model_module_version": "1.5.0",
      "_model_name": "HBoxModel",
      "_view_count": null,
      "_view_module": "@jupyter-widgets/controls",
      "_view_module_version": "1.5.0",
      "_view_name": "HBoxView",
      "box_style": "",
      "children": [
       "IPY_MODEL_5af6b0c24fd64d6bbcdc4984597803ba",
       "IPY_MODEL_51a30c941cb946cf83ea4278c96641e1"
      ],
      "layout": "IPY_MODEL_4084775b626f4632af4647f93cd6b165"
     }
    },
    "cead6b391e634f20b88a127c92cea716": {
     "model_module": "@jupyter-widgets/base",
     "model_name": "LayoutModel",
     "state": {
      "_model_module": "@jupyter-widgets/base",
      "_model_module_version": "1.2.0",
      "_model_name": "LayoutModel",
      "_view_count": null,
      "_view_module": "@jupyter-widgets/base",
      "_view_module_version": "1.2.0",
      "_view_name": "LayoutView",
      "align_content": null,
      "align_items": null,
      "align_self": null,
      "border": null,
      "bottom": null,
      "display": null,
      "flex": null,
      "flex_flow": null,
      "grid_area": null,
      "grid_auto_columns": null,
      "grid_auto_flow": null,
      "grid_auto_rows": null,
      "grid_column": null,
      "grid_gap": null,
      "grid_row": null,
      "grid_template_areas": null,
      "grid_template_columns": null,
      "grid_template_rows": null,
      "height": null,
      "justify_content": null,
      "justify_items": null,
      "left": null,
      "margin": null,
      "max_height": null,
      "max_width": null,
      "min_height": null,
      "min_width": null,
      "object_fit": null,
      "object_position": null,
      "order": null,
      "overflow": null,
      "overflow_x": null,
      "overflow_y": null,
      "padding": null,
      "right": null,
      "top": null,
      "visibility": null,
      "width": null
     }
    },
    "d28348dc188b419fb1574374cdb34114": {
     "model_module": "@jupyter-widgets/base",
     "model_name": "LayoutModel",
     "state": {
      "_model_module": "@jupyter-widgets/base",
      "_model_module_version": "1.2.0",
      "_model_name": "LayoutModel",
      "_view_count": null,
      "_view_module": "@jupyter-widgets/base",
      "_view_module_version": "1.2.0",
      "_view_name": "LayoutView",
      "align_content": null,
      "align_items": null,
      "align_self": null,
      "border": null,
      "bottom": null,
      "display": null,
      "flex": null,
      "flex_flow": null,
      "grid_area": null,
      "grid_auto_columns": null,
      "grid_auto_flow": null,
      "grid_auto_rows": null,
      "grid_column": null,
      "grid_gap": null,
      "grid_row": null,
      "grid_template_areas": null,
      "grid_template_columns": null,
      "grid_template_rows": null,
      "height": null,
      "justify_content": null,
      "justify_items": null,
      "left": null,
      "margin": null,
      "max_height": null,
      "max_width": null,
      "min_height": null,
      "min_width": null,
      "object_fit": null,
      "object_position": null,
      "order": null,
      "overflow": null,
      "overflow_x": null,
      "overflow_y": null,
      "padding": null,
      "right": null,
      "top": null,
      "visibility": null,
      "width": null
     }
    },
    "dbfeed87240f48dcb79fd81d3c331262": {
     "model_module": "@jupyter-widgets/base",
     "model_name": "LayoutModel",
     "state": {
      "_model_module": "@jupyter-widgets/base",
      "_model_module_version": "1.2.0",
      "_model_name": "LayoutModel",
      "_view_count": null,
      "_view_module": "@jupyter-widgets/base",
      "_view_module_version": "1.2.0",
      "_view_name": "LayoutView",
      "align_content": null,
      "align_items": null,
      "align_self": null,
      "border": null,
      "bottom": null,
      "display": null,
      "flex": null,
      "flex_flow": null,
      "grid_area": null,
      "grid_auto_columns": null,
      "grid_auto_flow": null,
      "grid_auto_rows": null,
      "grid_column": null,
      "grid_gap": null,
      "grid_row": null,
      "grid_template_areas": null,
      "grid_template_columns": null,
      "grid_template_rows": null,
      "height": null,
      "justify_content": null,
      "justify_items": null,
      "left": null,
      "margin": null,
      "max_height": null,
      "max_width": null,
      "min_height": null,
      "min_width": null,
      "object_fit": null,
      "object_position": null,
      "order": null,
      "overflow": null,
      "overflow_x": null,
      "overflow_y": null,
      "padding": null,
      "right": null,
      "top": null,
      "visibility": null,
      "width": null
     }
    },
    "dd4de6a5661d41bc86bf12d0d4ced0ac": {
     "model_module": "@jupyter-widgets/base",
     "model_name": "LayoutModel",
     "state": {
      "_model_module": "@jupyter-widgets/base",
      "_model_module_version": "1.2.0",
      "_model_name": "LayoutModel",
      "_view_count": null,
      "_view_module": "@jupyter-widgets/base",
      "_view_module_version": "1.2.0",
      "_view_name": "LayoutView",
      "align_content": null,
      "align_items": null,
      "align_self": null,
      "border": null,
      "bottom": null,
      "display": null,
      "flex": null,
      "flex_flow": null,
      "grid_area": null,
      "grid_auto_columns": null,
      "grid_auto_flow": null,
      "grid_auto_rows": null,
      "grid_column": null,
      "grid_gap": null,
      "grid_row": null,
      "grid_template_areas": null,
      "grid_template_columns": null,
      "grid_template_rows": null,
      "height": null,
      "justify_content": null,
      "justify_items": null,
      "left": null,
      "margin": null,
      "max_height": null,
      "max_width": null,
      "min_height": null,
      "min_width": null,
      "object_fit": null,
      "object_position": null,
      "order": null,
      "overflow": null,
      "overflow_x": null,
      "overflow_y": null,
      "padding": null,
      "right": null,
      "top": null,
      "visibility": null,
      "width": null
     }
    },
    "e0dc0e775a094cbeaca41b8d51bfeb24": {
     "model_module": "@jupyter-widgets/controls",
     "model_name": "DescriptionStyleModel",
     "state": {
      "_model_module": "@jupyter-widgets/controls",
      "_model_module_version": "1.5.0",
      "_model_name": "DescriptionStyleModel",
      "_view_count": null,
      "_view_module": "@jupyter-widgets/base",
      "_view_module_version": "1.2.0",
      "_view_name": "StyleView",
      "description_width": ""
     }
    },
    "e5acb8c9faca4020b314c6a192d6428e": {
     "model_module": "@jupyter-widgets/controls",
     "model_name": "HBoxModel",
     "state": {
      "_dom_classes": [],
      "_model_module": "@jupyter-widgets/controls",
      "_model_module_version": "1.5.0",
      "_model_name": "HBoxModel",
      "_view_count": null,
      "_view_module": "@jupyter-widgets/controls",
      "_view_module_version": "1.5.0",
      "_view_name": "HBoxView",
      "box_style": "",
      "children": [
       "IPY_MODEL_bb6e93de3cff49fc8f031455cb61ef69",
       "IPY_MODEL_349d3d18ad114703a3e98008e257de4f"
      ],
      "layout": "IPY_MODEL_8c16c53b3e134f51b4eb452862594cb6"
     }
    },
    "e863748a55fb442eb248799adc7a8b1e": {
     "model_module": "@jupyter-widgets/base",
     "model_name": "LayoutModel",
     "state": {
      "_model_module": "@jupyter-widgets/base",
      "_model_module_version": "1.2.0",
      "_model_name": "LayoutModel",
      "_view_count": null,
      "_view_module": "@jupyter-widgets/base",
      "_view_module_version": "1.2.0",
      "_view_name": "LayoutView",
      "align_content": null,
      "align_items": null,
      "align_self": null,
      "border": null,
      "bottom": null,
      "display": null,
      "flex": null,
      "flex_flow": null,
      "grid_area": null,
      "grid_auto_columns": null,
      "grid_auto_flow": null,
      "grid_auto_rows": null,
      "grid_column": null,
      "grid_gap": null,
      "grid_row": null,
      "grid_template_areas": null,
      "grid_template_columns": null,
      "grid_template_rows": null,
      "height": null,
      "justify_content": null,
      "justify_items": null,
      "left": null,
      "margin": null,
      "max_height": null,
      "max_width": null,
      "min_height": null,
      "min_width": null,
      "object_fit": null,
      "object_position": null,
      "order": null,
      "overflow": null,
      "overflow_x": null,
      "overflow_y": null,
      "padding": null,
      "right": null,
      "top": null,
      "visibility": null,
      "width": null
     }
    },
    "f8ccdb87659f402aaada7ae74c2e2e57": {
     "model_module": "@jupyter-widgets/base",
     "model_name": "LayoutModel",
     "state": {
      "_model_module": "@jupyter-widgets/base",
      "_model_module_version": "1.2.0",
      "_model_name": "LayoutModel",
      "_view_count": null,
      "_view_module": "@jupyter-widgets/base",
      "_view_module_version": "1.2.0",
      "_view_name": "LayoutView",
      "align_content": null,
      "align_items": null,
      "align_self": null,
      "border": null,
      "bottom": null,
      "display": null,
      "flex": null,
      "flex_flow": null,
      "grid_area": null,
      "grid_auto_columns": null,
      "grid_auto_flow": null,
      "grid_auto_rows": null,
      "grid_column": null,
      "grid_gap": null,
      "grid_row": null,
      "grid_template_areas": null,
      "grid_template_columns": null,
      "grid_template_rows": null,
      "height": null,
      "justify_content": null,
      "justify_items": null,
      "left": null,
      "margin": null,
      "max_height": null,
      "max_width": null,
      "min_height": null,
      "min_width": null,
      "object_fit": null,
      "object_position": null,
      "order": null,
      "overflow": null,
      "overflow_x": null,
      "overflow_y": null,
      "padding": null,
      "right": null,
      "top": null,
      "visibility": null,
      "width": null
     }
    }
   }
  }
 },
 "nbformat": 4,
 "nbformat_minor": 4
}
